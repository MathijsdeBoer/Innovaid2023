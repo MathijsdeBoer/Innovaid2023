{
 "cells": [
  {
   "cell_type": "code",
   "execution_count": 7,
   "metadata": {},
   "outputs": [],
   "source": [
    "from pathlib import Path\n",
    "\n",
    "import pandas as pd\n",
    "import seaborn as sns\n",
    "\n",
    "from innovaid.loader import load_set\n",
    "\n",
    "sns.set_theme(style=\"darkgrid\")\n",
    "sns.set_context(\"notebook\")"
   ]
  },
  {
   "cell_type": "code",
   "execution_count": 2,
   "metadata": {},
   "outputs": [
    {
     "name": "stdout",
     "output_type": "stream",
     "text": [
      "Found 3102 files\n"
     ]
    },
    {
     "name": "stderr",
     "output_type": "stream",
     "text": [
      "Loading ZZY7qwXSS8STjlthBKoK: 100%|██████████| 3102/3102 [03:12<00:00, 16.16it/s]\n"
     ]
    },
    {
     "data": {
      "text/html": [
       "<div>\n",
       "<style scoped>\n",
       "    .dataframe tbody tr th:only-of-type {\n",
       "        vertical-align: middle;\n",
       "    }\n",
       "\n",
       "    .dataframe tbody tr th {\n",
       "        vertical-align: top;\n",
       "    }\n",
       "\n",
       "    .dataframe thead th {\n",
       "        text-align: right;\n",
       "    }\n",
       "</style>\n",
       "<table border=\"1\" class=\"dataframe\">\n",
       "  <thead>\n",
       "    <tr style=\"text-align: right;\">\n",
       "      <th></th>\n",
       "      <th></th>\n",
       "      <th>IMAGE_POSITION</th>\n",
       "      <th>IMAGE_TYPE</th>\n",
       "      <th>SCENE_INDEX</th>\n",
       "      <th>RX</th>\n",
       "      <th>RY</th>\n",
       "      <th>RANGE_BDI</th>\n",
       "    </tr>\n",
       "    <tr>\n",
       "      <th>SESSIONID</th>\n",
       "      <th>TIME</th>\n",
       "      <th></th>\n",
       "      <th></th>\n",
       "      <th></th>\n",
       "      <th></th>\n",
       "      <th></th>\n",
       "      <th></th>\n",
       "    </tr>\n",
       "  </thead>\n",
       "  <tbody>\n",
       "    <tr>\n",
       "      <th rowspan=\"5\" valign=\"top\">000UccTkf4v2wbRz5AfQ</th>\n",
       "      <th>0</th>\n",
       "      <td>right</td>\n",
       "      <td>neutral</td>\n",
       "      <td>1.0</td>\n",
       "      <td>0.555453</td>\n",
       "      <td>0.448529</td>\n",
       "      <td>mild</td>\n",
       "    </tr>\n",
       "    <tr>\n",
       "      <th>1</th>\n",
       "      <td>right</td>\n",
       "      <td>neutral</td>\n",
       "      <td>1.0</td>\n",
       "      <td>0.549212</td>\n",
       "      <td>0.449412</td>\n",
       "      <td>mild</td>\n",
       "    </tr>\n",
       "    <tr>\n",
       "      <th>2</th>\n",
       "      <td>right</td>\n",
       "      <td>neutral</td>\n",
       "      <td>1.0</td>\n",
       "      <td>0.546846</td>\n",
       "      <td>0.452118</td>\n",
       "      <td>mild</td>\n",
       "    </tr>\n",
       "    <tr>\n",
       "      <th>3</th>\n",
       "      <td>right</td>\n",
       "      <td>neutral</td>\n",
       "      <td>1.0</td>\n",
       "      <td>0.544481</td>\n",
       "      <td>0.454824</td>\n",
       "      <td>mild</td>\n",
       "    </tr>\n",
       "    <tr>\n",
       "      <th>4</th>\n",
       "      <td>right</td>\n",
       "      <td>neutral</td>\n",
       "      <td>1.0</td>\n",
       "      <td>0.551084</td>\n",
       "      <td>0.471765</td>\n",
       "      <td>mild</td>\n",
       "    </tr>\n",
       "  </tbody>\n",
       "</table>\n",
       "</div>"
      ],
      "text/plain": [
       "                          IMAGE_POSITION IMAGE_TYPE  SCENE_INDEX        RX  \\\n",
       "SESSIONID            TIME                                                    \n",
       "000UccTkf4v2wbRz5AfQ 0             right    neutral          1.0  0.555453   \n",
       "                     1             right    neutral          1.0  0.549212   \n",
       "                     2             right    neutral          1.0  0.546846   \n",
       "                     3             right    neutral          1.0  0.544481   \n",
       "                     4             right    neutral          1.0  0.551084   \n",
       "\n",
       "                                 RY RANGE_BDI  \n",
       "SESSIONID            TIME                      \n",
       "000UccTkf4v2wbRz5AfQ 0     0.448529      mild  \n",
       "                     1     0.449412      mild  \n",
       "                     2     0.452118      mild  \n",
       "                     3     0.454824      mild  \n",
       "                     4     0.471765      mild  "
      ]
     },
     "execution_count": 2,
     "metadata": {},
     "output_type": "execute_result"
    }
   ],
   "source": [
    "# Run Preprocessing before running this cell\n",
    "data_path = Path.cwd().parent.parent / \"Data\"\n",
    "\n",
    "# This will take a while, about 4 minutes on my system\n",
    "dataset = load_set(data_path.resolve() / \"preprocessed\" / \"samples\")\n",
    "dataset.head()"
   ]
  },
  {
   "cell_type": "code",
   "execution_count": 13,
   "metadata": {},
   "outputs": [
    {
     "data": {
      "text/plain": [
       "<Axes: xlabel='RANGE_BDI', ylabel='count'>"
      ]
     },
     "execution_count": 13,
     "metadata": {},
     "output_type": "execute_result"
    },
    {
     "data": {
      "image/png": "[encoded data removed]",
      "text/plain": [
       "<Figure size 640x480 with 1 Axes>"
      ]
     },
     "metadata": {},
     "output_type": "display_data"
    }
   ],
   "source": [
    "# Find the number of samples in each class\n",
    "sns.countplot(x=\"RANGE_BDI\", data=dataset)"
   ]
  },
  {
   "cell_type": "code",
   "execution_count": 14,
   "metadata": {},
   "outputs": [
    {
     "data": {
      "text/plain": [
       "<Axes: ylabel='Count'>"
      ]
     },
     "execution_count": 14,
     "metadata": {},
     "output_type": "execute_result"
    },
    {
     "data": {
      "image/png": "[encoded data removed]",
      "text/plain": [
       "<Figure size 640x480 with 1 Axes>"
      ]
     },
     "metadata": {},
     "output_type": "display_data"
    }
   ],
   "source": [
    "session_lengths = dataset[\"IMAGE_TYPE\"].groupby(\"SESSIONID\").count().to_numpy()\n",
    "sns.histplot(session_lengths)"
   ]
  },
  {
   "cell_type": "code",
   "execution_count": null,
   "metadata": {},
   "outputs": [],
   "source": [
    "type_mapping = {\n",
    "    \"NONE\": 0,\n",
    "    \"positive\": 1,\n",
    "    \"negative\": 2,\n",
    "    \"neutral\": 3,\n",
    "}\n",
    "side_mapping = {\n",
    "    \"NONE\": 0,\n",
    "    \"left\": 1,\n",
    "    \"right\": 2,\n",
    "}\n",
    "bdi_mapping = {\n",
    "    \"min\": 0,\n",
    "    \"mild\": 1,\n",
    "    \"moderate\": 2,\n",
    "    \"mod_severe\": 3,\n",
    "}\n",
    "\n",
    "dataset[\"IMAGE_TYPE\"] = dataset[\"IMAGE_TYPE\"].map(type_mapping)\n",
    "dataset[\"IMAGE_POSITION\"] = dataset[\"IMAGE_POSITION\"].map(side_mapping)\n",
    "dataset[\"RANGE_BDI\"] = dataset[\"RANGE_BDI\"].map(bdi_mapping)\n",
    "dataset[\"SCENE_INDEX\"] = dataset[\"SCENE_INDEX\"].astype(int)"
   ]
  }
 ],
 "metadata": {
  "kernelspec": {
   "display_name": ".venv",
   "language": "python",
   "name": "python3"
  },
  "language_info": {
   "codemirror_mode": {
    "name": "ipython",
    "version": 3
   },
   "file_extension": ".py",
   "mimetype": "text/x-python",
   "name": "python",
   "nbconvert_exporter": "python",
   "pygments_lexer": "ipython3",
   "version": "3.11.6"
  }
 },
 "nbformat": 4,
 "nbformat_minor": 2
}
