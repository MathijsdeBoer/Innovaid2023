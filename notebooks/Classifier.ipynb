{
 "cells": [
  {
   "cell_type": "code",
   "execution_count": 165,
   "metadata": {},
   "outputs": [],
   "source": [
    "# Data Processing\n",
    "import pandas as pd\n",
    "import numpy as np\n",
    "import os\n",
    "import joblib\n",
    "\n",
    "# Modelling\n",
    "from sklearn.ensemble import RandomForestClassifier\n",
    "from sklearn.metrics import accuracy_score, confusion_matrix, precision_score, recall_score, ConfusionMatrixDisplay\n",
    "from sklearn.model_selection import RandomizedSearchCV, train_test_split\n",
    "from scipy.stats import randint\n",
    "from sklearn.metrics import classification_report\n",
    "from sklearn import tree\n",
    "from sklearn.neural_network import MLPClassifier\n"
   ]
  },
  {
   "cell_type": "code",
   "execution_count": 166,
   "metadata": {},
   "outputs": [],
   "source": [
    "data_dir = '/Users/rooskraaijveld/Desktop/innovaid_hackathon_anima/csv_variables_2'"
   ]
  },
  {
   "cell_type": "code",
   "execution_count": 167,
   "metadata": {},
   "outputs": [],
   "source": [
    "selected_columns = ['switches_positive', 'switches_negative', 'switches_neutral', \n",
    "                    'duration_positive', 'duration_negative', 'duration_neutral',\n",
    "                   'velocity_positive', 'velocity_negative', 'velocity_neutral', \n",
    "                    'distance_positive','distance_negative','distance_neutral']"
   ]
  },
  {
   "cell_type": "code",
   "execution_count": 168,
   "metadata": {},
   "outputs": [
    {
     "name": "stdout",
     "output_type": "stream",
     "text": [
      "Number of subjects 3090\n"
     ]
    }
   ],
   "source": [
    "# Get features from each csv file\n",
    "features = []\n",
    "labels = []\n",
    "\n",
    "binary = True\n",
    "\n",
    "for file in os.listdir(data_dir):\n",
    "    if file.endswith(\".csv\"):\n",
    "        file_path = os.path.join(data_dir, file)\n",
    "        df = pd.read_csv(file_path)\n",
    "        selected_features = df[selected_columns]\n",
    "        features.append(selected_features)\n",
    "        \n",
    "        label = df['BDI_class'].values[0]\n",
    "        if binary is True:\n",
    "            if label == 0 or label == 1: # Split between minor and major risk \n",
    "                final_label = 0\n",
    "            else:\n",
    "                final_label = 1\n",
    "        else:\n",
    "            final_label = label\n",
    "        labels.append(final_label) \n",
    "\n",
    "print(\"Number of subjects\", len(labels))"
   ]
  },
  {
   "cell_type": "code",
   "execution_count": 171,
   "metadata": {},
   "outputs": [],
   "source": [
    "X = pd.concat(features, axis=0, ignore_index=True)\n",
    "y = pd.Series(labels)\n",
    "X_train, X_test, y_train, y_test = train_test_split(X, y, test_size=0.1, random_state=42)\n"
   ]
  },
  {
   "cell_type": "code",
   "execution_count": 172,
   "metadata": {},
   "outputs": [
    {
     "name": "stdout",
     "output_type": "stream",
     "text": [
      "Number in train set:  2781\n",
      "Number in train set:  309\n"
     ]
    }
   ],
   "source": [
    "print(\"Number in train set: \", len(X_train))\n",
    "print(\"Number in train set: \", len(X_test))"
   ]
  },
  {
   "cell_type": "code",
   "execution_count": 173,
   "metadata": {},
   "outputs": [
    {
     "name": "stdout",
     "output_type": "stream",
     "text": [
      "Accuracy: 0.59547\n",
      "Classification Report:\n",
      "              precision    recall  f1-score   support\n",
      "\n",
      "           0       0.56      0.44      0.49       139\n",
      "           1       0.61      0.72      0.66       170\n",
      "\n",
      "    accuracy                           0.60       309\n",
      "   macro avg       0.59      0.58      0.58       309\n",
      "weighted avg       0.59      0.60      0.59       309\n",
      "\n"
     ]
    },
    {
     "data": {
      "image/png": "[encoded data removed]",
      "text/plain": [
       "<Figure size 432x288 with 2 Axes>"
      ]
     },
     "metadata": {
      "needs_background": "light"
     },
     "output_type": "display_data"
    }
   ],
   "source": [
    "rf_classifier = RandomForestClassifier(criterion='gini')#n_estimators=100, random_state=42)\n",
    "rf_classifier.fit(X_train, y_train)\n",
    "\n",
    "# Make predictions on the test set\n",
    "y_pred = rf_classifier.predict(X_test)\n",
    "\n",
    "# Evaluate the model\n",
    "accuracy = accuracy_score(y_test, y_pred)\n",
    "print(f\"Accuracy: {accuracy:.5f}\")\n",
    "\n",
    "print(\"Classification Report:\")\n",
    "print(classification_report(y_test, y_pred))\n",
    "\n",
    "cm = confusion_matrix(y_test, y_pred)\n",
    "ConfusionMatrixDisplay(confusion_matrix=cm).plot();\n",
    "\n"
   ]
  },
  {
   "cell_type": "code",
   "execution_count": 174,
   "metadata": {},
   "outputs": [
    {
     "data": {
      "text/plain": [
       "RandomizedSearchCV(cv=5, estimator=RandomForestClassifier(), n_iter=5,\n",
       "                   param_distributions={'max_depth': <scipy.stats._distn_infrastructure.rv_frozen object at 0x7fa6080a3be0>,\n",
       "                                        'n_estimators': <scipy.stats._distn_infrastructure.rv_frozen object at 0x7fa60a996340>})"
      ]
     },
     "execution_count": 174,
     "metadata": {},
     "output_type": "execute_result"
    }
   ],
   "source": [
    "# Find best parameters for Random Forest\n",
    "\n",
    "param_dist = {'n_estimators': randint(50,500),\n",
    "              'max_depth': randint(1,20)}\n",
    "\n",
    "rf = RandomForestClassifier()\n",
    "rand_search = RandomizedSearchCV(rf, \n",
    "                                 param_distributions = param_dist, \n",
    "                                 n_iter=5, \n",
    "                                 cv=5)\n",
    "\n",
    "rand_search.fit(X_train, y_train)\n",
    "\n",
    "best_rf = rand_search.best_estimator_\n",
    "print('Best hyperparameters:',  rand_search.best_params_)"
   ]
  },
  {
   "cell_type": "code",
   "execution_count": 176,
   "metadata": {},
   "outputs": [
    {
     "name": "stdout",
     "output_type": "stream",
     "text": [
      "Accuracy: 0.58900\n",
      "Classification Report:\n",
      "              precision    recall  f1-score   support\n",
      "\n",
      "           0       0.61      0.24      0.34       139\n",
      "           1       0.58      0.88      0.70       170\n",
      "\n",
      "    accuracy                           0.59       309\n",
      "   macro avg       0.60      0.56      0.52       309\n",
      "weighted avg       0.60      0.59      0.54       309\n",
      "\n"
     ]
    },
    {
     "data": {
      "image/png": "[encoded data removed]",
      "text/plain": [
       "<Figure size 432x288 with 2 Axes>"
      ]
     },
     "metadata": {
      "needs_background": "light"
     },
     "output_type": "display_data"
    }
   ],
   "source": [
    "# Run everything again but with the best model\n",
    "y_pred = best_rf.predict(X_test)\n",
    "\n",
    "cm = confusion_matrix(y_test, y_pred)\n",
    "\n",
    "accuracy = accuracy_score(y_test, y_pred)\n",
    "print(f\"Accuracy: {accuracy:.5f}\")\n",
    "\n",
    "print(\"Classification Report:\")\n",
    "print(classification_report(y_test, y_pred))\n",
    "\n",
    "ConfusionMatrixDisplay(confusion_matrix=cm).plot();\n",
    "\n",
    "# save\n",
    "save = False\n",
    "if save:\n",
    "    joblib.dump(best_rf, \"/Users/rooskraaijveld/Desktop/innovaid_hackathon_anima/my_best_random_forest_\"+\"{:.2f}\".format(accuracy)+\".joblib\")\n"
   ]
  },
  {
   "cell_type": "code",
   "execution_count": 177,
   "metadata": {},
   "outputs": [
    {
     "name": "stdout",
     "output_type": "stream",
     "text": [
      "              Feature  Importance\n",
      "1   switches_negative    0.146484\n",
      "10  distance_negative    0.128638\n",
      "9   distance_positive    0.115157\n",
      "6   velocity_positive    0.112270\n",
      "7   velocity_negative    0.110998\n",
      "11   distance_neutral    0.100219\n",
      "0   switches_positive    0.095679\n",
      "2    switches_neutral    0.086843\n",
      "8    velocity_neutral    0.086241\n",
      "3   duration_positive    0.006663\n",
      "4   duration_negative    0.005541\n",
      "5    duration_neutral    0.005268\n",
      "\n",
      "Total Importance: 1.0000000000000002\n"
     ]
    }
   ],
   "source": [
    "# Analyse which features are the most important\n",
    "\n",
    "feature_importances = best_rf.feature_importances_\n",
    "feature_importance_df = pd.DataFrame({'Feature': X.columns, 'Importance': feature_importances})\n",
    "feature_importance_df = feature_importance_df.sort_values(by='Importance', ascending=False)\n",
    "\n",
    "print(feature_importance_df)\n"
   ]
  },
  {
   "cell_type": "code",
   "execution_count": 179,
   "metadata": {},
   "outputs": [
    {
     "data": {
      "image/png": "[encoded data removed]",
      "text/plain": [
       "<Figure size 720x432 with 1 Axes>"
      ]
     },
     "metadata": {
      "needs_background": "light"
     },
     "output_type": "display_data"
    }
   ],
   "source": [
    "# Plot the feature importances\n",
    "fig, ax = plt.subplots(figsize=(10, 6))\n",
    "feature_importance_df.plot(kind='bar', x='Feature', y='Importance', ax=ax, color='skyblue', legend=False)\n",
    "ax.set_title(\"Feature Importances\")\n",
    "ax.set_ylabel(\"Importance\")\n",
    "ax.set_xlabel(\"Feature\")\n",
    "ax.set_xticklabels(feature_importance_df['Feature'], rotation=45, ha='right')  # Rotate x-axis labels for better readability\n",
    "fig.tight_layout()\n",
    "\n",
    "\n",
    "plt.savefig('/Users/rooskraaijveld/Desktop/innovaid_hackathon_anima/feature_importances_plot.png')\n",
    "\n",
    "plt.show()"
   ]
  },
  {
   "cell_type": "code",
   "execution_count": 186,
   "metadata": {},
   "outputs": [
    {
     "data": {
      "image/png": "[encoded data removed]",
      "text/plain": [
       "<Figure size 720x432 with 1 Axes>"
      ]
     },
     "metadata": {},
     "output_type": "display_data"
    }
   ],
   "source": [
    "# Plot the feature importances with yellow bars, white text, and increased font size\n",
    "fig, ax = plt.subplots(figsize=(10, 6), facecolor='white')\n",
    "feature_importance_df.plot(kind='bar', x='Feature', y='Importance', ax=ax, color='gold', legend=False)\n",
    "ax.set_title(\"Importance of Eye Movement Features in Detecting Depression\", color='white', fontsize=20)\n",
    "ax.set_ylabel(\"Importance\", color='white', fontsize=20)\n",
    "ax.set_xlabel(\"Feature\", color='white', fontsize=20)\n",
    "ax.set_xticklabels(feature_importance_df['Feature'], rotation=45, ha='right', color='white', fontsize=18)  # Rotate x-axis labels for better readability\n",
    "fig.tight_layout()\n",
    "\n",
    "# Save the figure\n",
    "plt.savefig('/Users/rooskraaijveld/Desktop/innovaid_hackathon_anima/feature_importances_plot2.png', bbox_inches='tight', transparent=True)\n",
    "\n",
    "plt.show()"
   ]
  },
  {
   "cell_type": "code",
   "execution_count": null,
   "metadata": {},
   "outputs": [],
   "source": []
  }
 ],
 "metadata": {
  "kernelspec": {
   "display_name": "Python 3",
   "language": "python",
   "name": "python3"
  },
  "language_info": {
   "codemirror_mode": {
    "name": "ipython",
    "version": 3
   },
   "file_extension": ".py",
   "mimetype": "text/x-python",
   "name": "python",
   "nbconvert_exporter": "python",
   "pygments_lexer": "ipython3",
   "version": "3.11.6"
  }
 },
 "nbformat": 4,
 "nbformat_minor": 4
}
