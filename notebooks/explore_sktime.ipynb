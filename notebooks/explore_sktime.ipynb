{
 "cells": [
  {
   "cell_type": "code",
   "execution_count": 5,
   "metadata": {},
   "outputs": [],
   "source": [
    "from pathlib import Path\n",
    "\n",
    "from sktime.classification.interval_based import TimeSeriesForestClassifier\n",
    "from sktime.datasets import load_unit_test\n",
    "from sklearn.model_selection import train_test_split\n",
    "from sklearn.metrics import accuracy_score"
   ]
  },
  {
   "cell_type": "code",
   "execution_count": 6,
   "metadata": {},
   "outputs": [],
   "source": [
    "X_train, y_train = load_unit_test(split=\"train\", return_X_y=True)\n",
    "X_test, y_test = load_unit_test(split=\"test\", return_X_y=True)"
   ]
  },
  {
   "cell_type": "code",
   "execution_count": 10,
   "metadata": {},
   "outputs": [
    {
     "data": {
      "text/plain": [
       "array(['1', '1', '1', '1', '1', '1', '1', '1', '1', '1', '2', '2', '2',\n",
       "       '2', '2', '2', '2', '2', '2', '2'], dtype='<U1')"
      ]
     },
     "execution_count": 10,
     "metadata": {},
     "output_type": "execute_result"
    }
   ],
   "source": [
    "y_train"
   ]
  },
  {
   "cell_type": "code",
   "execution_count": 7,
   "metadata": {},
   "outputs": [
    {
     "name": "stderr",
     "output_type": "stream",
     "text": [
      "c:\\Users\\czori\\Documents\\Innovaid2023\\.venv\\Lib\\site-packages\\sktime\\datatypes\\_panel\\_convert.py:74: FutureWarning: DataFrame.applymap has been deprecated. Use DataFrame.map instead.\n",
      "  return X.applymap(_cell_is_series_or_array)\n",
      "c:\\Users\\czori\\Documents\\Innovaid2023\\.venv\\Lib\\site-packages\\sktime\\datatypes\\_panel\\_convert.py:889: FutureWarning: DataFrame.applymap has been deprecated. Use DataFrame.map instead.\n",
      "  X.applymap(_convert_series_cell_to_numpy)\n",
      "c:\\Users\\czori\\Documents\\Innovaid2023\\.venv\\Lib\\site-packages\\sktime\\datatypes\\_panel\\_convert.py:74: FutureWarning: DataFrame.applymap has been deprecated. Use DataFrame.map instead.\n",
      "  return X.applymap(_cell_is_series_or_array)\n",
      "c:\\Users\\czori\\Documents\\Innovaid2023\\.venv\\Lib\\site-packages\\sktime\\datatypes\\_panel\\_convert.py:889: FutureWarning: DataFrame.applymap has been deprecated. Use DataFrame.map instead.\n",
      "  X.applymap(_convert_series_cell_to_numpy)\n"
     ]
    }
   ],
   "source": [
    "clf = TimeSeriesForestClassifier(n_estimators=5)\n",
    "clf.fit(X_train, y_train)\n",
    "y_pred = clf.predict(X_test)"
   ]
  },
  {
   "cell_type": "code",
   "execution_count": 8,
   "metadata": {},
   "outputs": [
    {
     "name": "stdout",
     "output_type": "stream",
     "text": [
      "Accuracy: 0.8636\n"
     ]
    }
   ],
   "source": [
    "score = accuracy_score(y_test, y_pred)\n",
    "print(f\"Accuracy: {score:.4f}\")"
   ]
  },
  {
   "cell_type": "code",
   "execution_count": null,
   "metadata": {},
   "outputs": [],
   "source": []
  }
 ],
 "metadata": {
  "kernelspec": {
   "display_name": ".venv",
   "language": "python",
   "name": "python3"
  },
  "language_info": {
   "codemirror_mode": {
    "name": "ipython",
    "version": 3
   },
   "file_extension": ".py",
   "mimetype": "text/x-python",
   "name": "python",
   "nbconvert_exporter": "python",
   "pygments_lexer": "ipython3",
   "version": "3.11.6"
  }
 },
 "nbformat": 4,
 "nbformat_minor": 2
}
