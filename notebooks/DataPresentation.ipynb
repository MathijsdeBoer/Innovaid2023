{
 "cells": [
  {
   "cell_type": "code",
   "execution_count": null,
   "id": "43098664",
   "metadata": {},
   "outputs": [],
   "source": [
    "import pandas as pd\n",
    "import os\n",
    "import plotly.express as px"
   ]
  },
  {
   "cell_type": "markdown",
   "id": "1faf5e7b",
   "metadata": {},
   "source": [
    "# Input Dataset"
   ]
  },
  {
   "cell_type": "code",
   "execution_count": null,
   "id": "c43b5039",
   "metadata": {},
   "outputs": [],
   "source": [
    "dataframes = {}\n",
    "path = os.getcwd() + \"/innovaid_hackathon_anima/input/\"\n",
    "\n",
    "for file in os.listdir(path):\n",
    "    if file.endswith(\".csv\"):\n",
    "        # Build complete pathh\n",
    "        file_path = os.path.join(path, file)\n",
    "        \n",
    "        # load single csv file\n",
    "        dataframe = pd.read_csv(file_path)\n",
    "        \n",
    "        # add dataframe to the dictionary\n",
    "        dataframes[file] = dataframe\n",
    "len(dataframes)"
   ]
  },
  {
   "cell_type": "code",
   "execution_count": null,
   "id": "1ad399bc",
   "metadata": {},
   "outputs": [],
   "source": [
    "keys_list = list(dataframes.keys())\n",
    "keys_list[:2]"
   ]
  },
  {
   "cell_type": "code",
   "execution_count": null,
   "id": "e9296d7c",
   "metadata": {},
   "outputs": [],
   "source": [
    "# Set number of patient for visualizations\n",
    "patient = 1\n",
    "df = dataframes[keys_list[patient]].copy()"
   ]
  },
  {
   "cell_type": "code",
   "execution_count": null,
   "id": "9d03bc90",
   "metadata": {},
   "outputs": [],
   "source": [
    "# Compute velocity of gaze (module) for each timestamp in the DataFrame\n",
    "def compute_velocity(df: pd.DataFrame):\n",
    "    # Sort the DataFrame by the 'TIMESTAMP' column\n",
    "    df.sort_values(by='TIMESTAMP')\n",
    "    \n",
    "    # Extract gaze data for two consecutive timestamps\n",
    "    time0 = df.drop(index=len(df) - 1)  # Gaze data at the previous timestamp\n",
    "    time1 = df.drop(index=0).reset_index()  # Gaze data at the current timestamp\n",
    "    \n",
    "    # Calculate the differences in gaze positions (delta)\n",
    "    rx_delta = time0['RX'] - time1['RX']  # Change in x-coordinate\n",
    "    ry_delta = time0['RY'] - time1['RY']  # Change in y-coordinate\n",
    "    \n",
    "    # Calculate the velocity as the Euclidean distance between consecutive gaze points\n",
    "    velocity = (rx_delta**2 + ry_delta**2)**0.5\n",
    "    \n",
    "    # Add a zero at the beginning to match the length of the DataFrame\n",
    "    velocity = pd.concat([pd.Series([0]), velocity])\n",
    "    \n",
    "    return velocity\n",
    "\n",
    "# Add a new column 'velocity' to the DataFrame, containing the computed gaze velocities\n",
    "df['velocity'] = compute_velocity(df).values\n"
   ]
  },
  {
   "cell_type": "code",
   "execution_count": null,
   "id": "156ce2e4",
   "metadata": {},
   "outputs": [],
   "source": [
    "# Function to calculate and return average gaze velocities for each image type in a CSV file\n",
    "def get_velocities(csv_path):\n",
    "    # Read the CSV file into a DataFrame\n",
    "    df = pd.read_csv(csv_path)\n",
    "    \n",
    "    # Sort the DataFrame by the 'TIMESTAMP' column (Note: The sorted DataFrame should be assigned back to df)\n",
    "    df = df.sort_values(by='TIMESTAMP')\n",
    "    \n",
    "    # Extract gaze data for two consecutive timestamps\n",
    "    time0 = df.drop(index=len(df) - 1)  # Gaze data at the previous timestamp\n",
    "    time1 = df.drop(index=0).reset_index()  # Gaze data at the current timestamp\n",
    "    \n",
    "    # Calculate the differences in gaze positions (delta)\n",
    "    rx_delta = time0['RX'] - time1['RX']  # Change in x-coordinate\n",
    "    ry_delta = time0['RY'] - time1['RY']  # Change in y-coordinate\n",
    "    \n",
    "    # Calculate the velocity as the Euclidean distance between consecutive gaze points\n",
    "    velocity = (rx_delta**2 + ry_delta**2)**0.5\n",
    "    \n",
    "    # Add a zero at the beginning to match the length of the DataFrame\n",
    "    velocity = pd.concat([pd.Series([0]), velocity])\n",
    "    \n",
    "    # Add a new column 'velocity' to the DataFrame, containing the computed gaze velocities\n",
    "    df['velocity'] = velocity.values\n",
    "    \n",
    "    # Group by 'IMAGE_TYPE' and calculate the mean gaze velocity for each image type\n",
    "    img_velocities = df.groupby('IMAGE_TYPE')['velocity'].mean()\n",
    "    \n",
    "    # Convert the result to a dictionary and return it\n",
    "    return dict(img_velocities)\n",
    "\n",
    "# Example usage: Get gaze velocities from the third file in the specified directory\n",
    "get_velocities(os.path.join(path, os.listdir(path)[2]))\n"
   ]
  },
  {
   "cell_type": "code",
   "execution_count": null,
   "id": "0de66168",
   "metadata": {},
   "outputs": [],
   "source": [
    "# Plot gave behaviour through the test\n",
    "fig = px.scatter(df, x = 'RX', y = 'RY', color = 'TIMESTAMP')\n",
    "fig.show()"
   ]
  },
  {
   "cell_type": "code",
   "execution_count": null,
   "id": "23f8d302",
   "metadata": {},
   "outputs": [],
   "source": [
    "# Map IMAGE_TYPE for plotting\n",
    "category_mapping = {'positive': 1, 'neutral': 0, 'negative': -1}\n",
    "df['IMAGE_TYPE_enc'] = df['IMAGE_TYPE'].astype(str).map(category_mapping)\n",
    "df.head()"
   ]
  },
  {
   "cell_type": "code",
   "execution_count": null,
   "id": "6075a9dc",
   "metadata": {},
   "outputs": [],
   "source": [
    "# Plot parallel coordinates for highly dimensional data\n",
    "fig = px.parallel_coordinates(df, color = 'SCENE_INDEX',\n",
    "                              dimensions = ['SCENE_INDEX','TIMESTAMP', 'RY', 'RX','IMAGE_TYPE_enc'])\n",
    "fig.show()"
   ]
  },
  {
   "cell_type": "code",
   "execution_count": null,
   "id": "9d84c9ed",
   "metadata": {},
   "outputs": [],
   "source": [
    "# Plot Image type distribution\n",
    "fig = px.histogram(df, x = 'IMAGE_TYPE')\n",
    "fig.show()"
   ]
  },
  {
   "cell_type": "code",
   "execution_count": null,
   "id": "3cb7affb",
   "metadata": {},
   "outputs": [],
   "source": [
    "# Plot Image position distribution\n",
    "fig = px.histogram(df, x='IMAGE_POSITION')\n",
    "fig.show()"
   ]
  },
  {
   "cell_type": "markdown",
   "id": "d75cbaa0",
   "metadata": {},
   "source": [
    "# Output Dataset"
   ]
  },
  {
   "cell_type": "code",
   "execution_count": null,
   "id": "5012e09c",
   "metadata": {},
   "outputs": [],
   "source": [
    "path = os.getcwd() + \"/innovaid_hackathon_anima\"\n",
    "path = os.path.join(path, 'output.csv')"
   ]
  },
  {
   "cell_type": "code",
   "execution_count": null,
   "id": "2da80c45",
   "metadata": {},
   "outputs": [],
   "source": [
    "df_out = pd.read_csv(path)\n",
    "df_out.head()"
   ]
  },
  {
   "cell_type": "code",
   "execution_count": null,
   "id": "2c62154f",
   "metadata": {},
   "outputs": [],
   "source": [
    "# Plot BDI result distribution\n",
    "fig = px.histogram(df_out, x = 'BDI')\n",
    "fig.show()"
   ]
  },
  {
   "cell_type": "code",
   "execution_count": null,
   "id": "d75e3129",
   "metadata": {},
   "outputs": [],
   "source": [
    "def mapping(el):\n",
    "    if el < 9:\n",
    "        return 'low'\n",
    "    if el < 18:\n",
    "        return 'mild'\n",
    "    if el < 29:\n",
    "        return 'med'\n",
    "    return 'sev'\n",
    "\n",
    "# Binning of the result\n",
    "df_out['BDI_range'] = list(map(mapping, df_out['BDI']))\n",
    "df_out.head()"
   ]
  },
  {
   "cell_type": "code",
   "execution_count": null,
   "id": "dbfaffda",
   "metadata": {},
   "outputs": [],
   "source": [
    "# Plot new result distribution\n",
    "fig = px.histogram(df_out, x = 'BDI_range')\n",
    "fig.show()"
   ]
  },
  {
   "cell_type": "code",
   "execution_count": null,
   "id": "8af72903",
   "metadata": {},
   "outputs": [],
   "source": [
    "# Create a pie chart\n",
    "fig = px.pie(df_out, names='BDI_range', title='BDI Range Distribution')\n",
    "\n",
    "# Customize the layout and style\n",
    "fig.update_layout(\n",
    "    title_text='Distribution of BDI Ranges',  # Update the title\n",
    "    title_x=0.5,  # Center the title\n",
    "    legend_title='BDI Ranges',  # Update the legend title\n",
    "    template='seaborn',  # Set the template style (you can choose other templates)\n",
    "    uniformtext_minsize=12,  # Set minimum text size for labels\n",
    "    uniformtext_mode='hide',  # Hide labels if they don't fit\n",
    ")\n",
    "\n",
    "# Specify the full path along with the filename and extension\n",
    "path = os.path.join(os.getcwd(), 'innovaid_hackathon_anima', 'images', 'BDI_distribution_pie_chart.png')\n",
    "\n",
    "# Save the plot to the specified path\n",
    "fig.write_image(path)\n",
    "\n",
    "# Show the plot (optional)\n",
    "fig.show()"
   ]
  },
  {
   "cell_type": "code",
   "execution_count": null,
   "id": "b01b3a51",
   "metadata": {},
   "outputs": [],
   "source": [
    "from collections import Counter\n",
    "import matplotlib.pyplot as plt\n",
    "\n",
    "# Assuming 'result' is the mapped result from the previous code\n",
    "result_list = list(df_out['BDI_range'])\n",
    "\n",
    "# Count occurrences using Counter\n",
    "counted_values = Counter(result_list)\n",
    "\n",
    "# Calculate percentages\n",
    "total_values = len(result_list)\n",
    "percentage_values = {key: value / total_values * 100 for key, value in counted_values.items()}\n",
    "\n",
    "# Create a bar chart\n",
    "keys = list(percentage_values.keys())\n",
    "values = list(percentage_values.values())\n",
    "\n",
    "plt.bar(keys, values)\n",
    "plt.xlabel('Score')\n",
    "plt.ylabel('Percentage')\n",
    "plt.title('Percentage Distribution of BDI scores')\n",
    "path = os.path.join(os.getcwd(), 'innovaid_hackathon_anima', 'images', 'bdi_distribution_bar_chart.png')\n",
    "print(path)\n",
    "plt.savefig(path)\n",
    "\n",
    "plt.show()"
   ]
  },
  {
   "cell_type": "code",
   "execution_count": null,
   "id": "bab38971",
   "metadata": {},
   "outputs": [],
   "source": []
  }
 ],
 "metadata": {
  "kernelspec": {
   "display_name": "Python 3 (ipykernel)",
   "language": "python",
   "name": "python3"
  },
  "language_info": {
   "codemirror_mode": {
    "name": "ipython",
    "version": 3
   },
   "file_extension": ".py",
   "mimetype": "text/x-python",
   "name": "python",
   "nbconvert_exporter": "python",
   "pygments_lexer": "ipython3",
   "version": "3.11.5"
  }
 },
 "nbformat": 4,
 "nbformat_minor": 5
}
