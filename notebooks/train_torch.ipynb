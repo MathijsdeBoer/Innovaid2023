{
 "cells": [
  {
   "cell_type": "code",
   "execution_count": null,
   "metadata": {},
   "outputs": [],
   "source": [
    "from pathlib import Path\n",
    "\n",
    "import numpy as np\n",
    "import pandas as pd\n",
    "import sklearn.metrics as skm\n",
    "import torch\n",
    "from tsai.all import *\n",
    "from sklearn.model_selection import train_test_split\n",
    "\n",
    "from innovaid.dataloading import load_set\n",
    "\n",
    "torch.set_default_device('cpu')\n",
    "computer_setup()"
   ]
  },
  {
   "cell_type": "code",
   "execution_count": null,
   "metadata": {},
   "outputs": [],
   "source": [
    "dataset = load_set(Path(r\"../../data/proto/samples/\"))\n",
    "dataset.head()"
   ]
  },
  {
   "cell_type": "code",
   "execution_count": null,
   "metadata": {},
   "outputs": [],
   "source": [
    "type_mapping = {\n",
    "    \"NONE\": 0,\n",
    "    \"positive\": 1,\n",
    "    \"negative\": 2,\n",
    "    \"neutral\": 3,\n",
    "}\n",
    "side_mapping = {\n",
    "    \"NONE\": 0,\n",
    "    \"left\": 1,\n",
    "    \"right\": 2,\n",
    "}\n",
    "bdi_mapping = {\n",
    "    \"min\": 0,\n",
    "    \"mild\": 1,\n",
    "    \"moderate\": 2,\n",
    "    \"mod_severe\": 3,\n",
    "}\n",
    "\n",
    "print(type_mapping)\n",
    "print(side_mapping)\n",
    "print(bdi_mapping)"
   ]
  },
  {
   "cell_type": "code",
   "execution_count": null,
   "metadata": {},
   "outputs": [],
   "source": [
    "dataset[\"IMAGE_TYPE\"] = dataset[\"IMAGE_TYPE\"].map(type_mapping)\n",
    "dataset[\"IMAGE_POSITION\"] = dataset[\"IMAGE_POSITION\"].map(side_mapping)\n",
    "dataset[\"RANGE_BDI\"] = dataset[\"RANGE_BDI\"].map(bdi_mapping)\n",
    "dataset[\"SCENE_INDEX\"] = dataset[\"SCENE_INDEX\"].astype(int)\n",
    "dataset.head()"
   ]
  },
  {
   "cell_type": "code",
   "execution_count": null,
   "metadata": {},
   "outputs": [],
   "source": [
    "print(\"Finding unique sessions...\")\n",
    "sessions = list(set([x[0] for x in dataset.index.unique()]))\n",
    "\n",
    "print(\"Finding max sequence length...\")\n",
    "max_seq_len = dataset[\"IMAGE_TYPE\"].groupby(\"SESSIONID\").count().max()\n",
    "print(max_seq_len)\n",
    "\n",
    "print(\"Splitting dataset into train and test sets...\")\n",
    "train_sessions, test_sessions = train_test_split(\n",
    "    sessions, test_size=0.2, random_state=42\n",
    ")\n",
    "\n",
    "print(\"Generating train set...\")\n",
    "train_x = dataset.loc[train_sessions]\n",
    "train_y = dataset.loc[train_sessions]\n",
    "\n",
    "print(\"Generating test set...\")\n",
    "test_x = dataset.loc[test_sessions]\n",
    "test_y = dataset.loc[test_sessions]"
   ]
  },
  {
   "cell_type": "code",
   "execution_count": null,
   "metadata": {},
   "outputs": [],
   "source": [
    "# Compact the labels to only sessionid and collapse repeated ind\n",
    "train_y = train_y.reset_index().groupby(\"SESSIONID\").first().loc[:, \"RANGE_BDI\"].to_numpy()\n",
    "test_y = test_y.reset_index().groupby(\"SESSIONID\").first().loc[:, \"RANGE_BDI\"].to_numpy()"
   ]
  },
  {
   "cell_type": "code",
   "execution_count": null,
   "metadata": {},
   "outputs": [],
   "source": [
    "train_x = train_x[\"IMAGE_TYPE\"].loc[train_sessions, :]\n",
    "test_x = test_x[\"IMAGE_TYPE\"].loc[test_sessions, :]"
   ]
  },
  {
   "cell_type": "code",
   "execution_count": null,
   "metadata": {},
   "outputs": [],
   "source": [
    "# Convert to numpy arrays\n",
    "# Number of samples, features, time steps\n",
    "train_x.groupby(\"SESSIONID\").size().to_numpy()\n",
    "\n",
    "train_x_np = np.zeros((len(train_sessions), 1, max_seq_len))\n",
    "test_x_np = np.zeros((len(test_sessions), 1, max_seq_len))\n",
    "\n",
    "for i, session in enumerate(train_sessions):\n",
    "    train_x_np[i, 0, : train_x.loc[session].shape[0]] = train_x.loc[session].to_numpy()\n",
    "\n",
    "for i, session in enumerate(test_sessions):\n",
    "    test_x_np[i, 0, : test_x.loc[session].shape[0]] = test_x.loc[session].to_numpy()"
   ]
  },
  {
   "cell_type": "code",
   "execution_count": null,
   "metadata": {},
   "outputs": [],
   "source": [
    "print(train_x_np.shape)\n",
    "print(train_y.shape)"
   ]
  },
  {
   "cell_type": "code",
   "execution_count": null,
   "metadata": {},
   "outputs": [],
   "source": [
    "transforms = [None, [Categorize()]]\n",
    "x, y, splits = combine_split_data(\n",
    "    [train_x_np, test_x_np], [train_y, test_y]\n",
    "\n",
    ")\n",
    "ds = TSDatasets(x, y, splits=splits, tfms=transforms, inplace=True)\n",
    "dls = TSDataLoaders.from_dsets(ds.train, ds.valid, bs=[64, 128], batch_tfms=[TSStandardize()], num_workers=0)\n",
    "\n",
    "dls.show_batch(sharey=True)"
   ]
  },
  {
   "cell_type": "code",
   "execution_count": null,
   "metadata": {},
   "outputs": [],
   "source": [
    "model = InceptionTime(dls.vars, dls.c)\n",
    "learn = Learner(dls, model, metrics=accuracy)\n",
    "learn.save('stage0')"
   ]
  },
  {
   "cell_type": "code",
   "execution_count": null,
   "metadata": {},
   "outputs": [],
   "source": [
    "learn.load('stage0')\n",
    "learn.lr_find()"
   ]
  },
  {
   "cell_type": "code",
   "execution_count": null,
   "metadata": {},
   "outputs": [],
   "source": [
    "learn.fit_one_cycle(25, lr_max=1e-3)\n",
    "learn.save('stage1')"
   ]
  },
  {
   "cell_type": "code",
   "execution_count": null,
   "metadata": {},
   "outputs": [],
   "source": [
    "learn.recorder.plot_metrics()"
   ]
  },
  {
   "cell_type": "code",
   "execution_count": null,
   "metadata": {},
   "outputs": [],
   "source": [
    "learn.save_all(path='export', dls_fname='dls', model_fname='model', learner_fname='learner')"
   ]
  }
 ],
 "metadata": {
  "kernelspec": {
   "display_name": ".venv",
   "language": "python",
   "name": "python3"
  },
  "language_info": {
   "codemirror_mode": {
    "name": "ipython",
    "version": 3
   },
   "file_extension": ".py",
   "mimetype": "text/x-python",
   "name": "python",
   "nbconvert_exporter": "python",
   "pygments_lexer": "ipython3",
   "version": "3.11.6"
  }
 },
 "nbformat": 4,
 "nbformat_minor": 2
}
