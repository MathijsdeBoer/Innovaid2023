{
 "cells": [
  {
   "cell_type": "code",
   "execution_count": 1,
   "metadata": {},
   "outputs": [],
   "source": [
    "import os\n",
    "import csv\n",
    "import pandas as pd\n",
    "import numpy as np"
   ]
  },
  {
   "cell_type": "code",
   "execution_count": 2,
   "metadata": {},
   "outputs": [],
   "source": [
    "data_dir = '/Users/rooskraaijveld/Desktop/innovaid_hackathon_anima/input'"
   ]
  },
  {
   "cell_type": "code",
   "execution_count": 3,
   "metadata": {
    "scrolled": true
   },
   "outputs": [],
   "source": [
    "all_files = sorted(os.listdir(data_dir))\n",
    "for i in range(0, 10):\n",
    "    folder_name = os.path.join(data_dir, all_files[i])\n",
    "    df = pd.read_csv(folder_name, header=0, index_col=0)\n",
    "    "
   ]
  },
  {
   "cell_type": "code",
   "execution_count": 4,
   "metadata": {},
   "outputs": [],
   "source": [
    "def median_time_pos_neg_per_scene(csv_path):\n",
    "    df = pd.read_csv(csv_path, header=0, index_col=0)\n",
    "    \n",
    "    block_durations = {'positive': [], 'negative': [], 'neutral': [], 'nan': []}\n",
    "    current_scene = None\n",
    "    start_time = None\n",
    "    current_block = None\n",
    "\n",
    "    for index, row in df.iterrows():\n",
    "        posneg_value = str(row['IMAGE_TYPE'])\n",
    "        scene_value = row['SCENE_INDEX']\n",
    "\n",
    "        if current_block is None or current_block != posneg_value or current_scene != scene_value:\n",
    "            # Start a new block\n",
    "            if current_block is not None:\n",
    "                block_durations[str(current_block)].append(row['TIMESTAMP'] - start_time)\n",
    "\n",
    "            current_block = posneg_value\n",
    "            start_time = row['TIMESTAMP']\n",
    "            current_scene = scene_value\n",
    "        elif current_block == posneg_value and current_scene == scene_value:\n",
    "            # Continue the current block\n",
    "\n",
    "            if index == len(df) - 1:\n",
    "                block_durations[str(current_block)].append(row['TIMESTAMP'] - start_time + 1)\n",
    "\n",
    "    # Median duration for each block type\n",
    "    median_durations = {block_type: pd.to_timedelta(durations).median().total_seconds() if durations else 0\n",
    "                        for block_type, durations in block_durations.items()}\n",
    "\n",
    "    results = {\n",
    "        'duration_positive': median_durations['positive'],\n",
    "        'duration_negative': median_durations['negative'],\n",
    "        'duration_neutral': median_durations['neutral'],\n",
    "        'duration_nan': median_durations['nan']\n",
    "    }\n",
    "\n",
    "    return results"
   ]
  },
  {
   "cell_type": "code",
   "execution_count": 5,
   "metadata": {},
   "outputs": [
    {
     "data": {
      "text/plain": [
       "{'duration_positive': 2.16e-07,\n",
       " 'duration_negative': 2.5e-07,\n",
       " 'duration_neutral': 2.66e-07,\n",
       " 'duration_nan': 2.66e-07}"
      ]
     },
     "execution_count": 5,
     "metadata": {},
     "output_type": "execute_result"
    }
   ],
   "source": [
    "duration_scene = median_time_pos_neg_per_scene(os.path.join(data_dir, all_files[0]))\n",
    "duration_scene"
   ]
  },
  {
   "cell_type": "code",
   "execution_count": 6,
   "metadata": {},
   "outputs": [],
   "source": [
    "def median_time_pos_neg(csv_path):\n",
    "    df = pd.read_csv(csv_path, header=0, index_col=0)\n",
    "    \n",
    "    block_velocities = {'positive': [], 'negative': [], 'neutral' : [], 'nan' : []}\n",
    "    current_block = None\n",
    "    start_time = None\n",
    "    current_scene = None\n",
    "\n",
    "    for index, row in df.iterrows():\n",
    "        posneg_value = str(row['IMAGE_TYPE'])\n",
    "        scene_value = row['SCENE_INDEX']\n",
    "\n",
    "        if current_block is None or current_block != posneg_value or current_scene != scene_value:\n",
    "            # Start a new block\n",
    "            if current_block is not None:\n",
    "                block_durations[str(current_block)].append(row['TIMESTAMP'] - start_time)\n",
    "            current_block = posneg_value\n",
    "            start_time = row['TIMESTAMP']\n",
    "            current_scene = scene_value\n",
    "        elif current_block == posneg_value and current_scene == scene_value:\n",
    "            # Continue the current block\n",
    "\n",
    "            if index == len(df) - 1:\n",
    "                block_durations[str(current_block)].append(row['TIMESTAMP'] - start_time + 1)\n",
    "\n",
    "    # Calculate the average duration for each block type\n",
    "    average_durations = {block_type: sum(durations) / len(durations) if durations else 0\n",
    "                         for block_type, durations in block_durations.items()}\n",
    "\n",
    "    results = {'duration_positive' : average_durations['positive'],\n",
    "              'duration_negative' : average_durations['negative'],\n",
    "              'duration_neutral' : average_durations['neutral'],\n",
    "              'duration_nan' : average_durations['nan']}\n",
    "              \n",
    "    return results"
   ]
  },
  {
   "cell_type": "code",
   "execution_count": 8,
   "metadata": {},
   "outputs": [],
   "source": [
    "def number_of_switches_per_scene(csv_path):\n",
    "    df = pd.read_csv(csv_path, header=0, index_col=0)\n",
    "    \n",
    "    start_time = None\n",
    "    current_scene = None\n",
    "    state_switch_count = {'positive': 0, 'negative': 0, 'neutral': 0, 'nan': 0}\n",
    "    previous_state = None\n",
    "\n",
    "    min_block_duration = 1\n",
    "\n",
    "    # Iterate through the DataFrame\n",
    "    for index, row in df.iterrows():\n",
    "        posneg_value = str(row['IMAGE_TYPE'])\n",
    "        scene_index = row['SCENE_INDEX']\n",
    "        \n",
    "        if current_scene is None or current_scene != scene_index:\n",
    "            # Start a new block\n",
    "            if current_scene is not None and (row['TIMESTAMP'] - start_time) >= min_block_duration:\n",
    "                # Save the duration of the previous block\n",
    "                state_switch_count[str(previous_state)] += 1\n",
    "\n",
    "            current_scene = scene_index\n",
    "            start_time = row['TIMESTAMP']\n",
    "        elif current_scene == scene_index:\n",
    "            # Continue the current block\n",
    "\n",
    "            # Check if the state has switched\n",
    "            if previous_state is not None and posneg_value != previous_state:\n",
    "                state_switch_count[str(posneg_value)] += 1\n",
    "\n",
    "        previous_state = posneg_value\n",
    "\n",
    "    # Check the last block\n",
    "    if current_scene is not None and (row['TIMESTAMP'] - start_time) >= min_block_duration:\n",
    "        state_switch_count[str(previous_state)] += 1\n",
    "\n",
    "    state_switch_count[\"total_switches\"] = sum(state_switch_count.values())\n",
    "\n",
    "    results = {\n",
    "        'switches_positive': state_switch_count['positive'],\n",
    "        'switches_negative': state_switch_count['negative'],\n",
    "        'switches_neutral': state_switch_count['neutral'],\n",
    "        'switches_nan': state_switch_count['nan'],\n",
    "        'switches_total': state_switch_count['total_switches']\n",
    "    }\n",
    "    return results\n"
   ]
  },
  {
   "cell_type": "code",
   "execution_count": 9,
   "metadata": {},
   "outputs": [
    {
     "data": {
      "text/plain": [
       "{'switches_positive': 92,\n",
       " 'switches_negative': 87,\n",
       " 'switches_neutral': 93,\n",
       " 'switches_nan': 142,\n",
       " 'switches_total': 414}"
      ]
     },
     "execution_count": 9,
     "metadata": {},
     "output_type": "execute_result"
    }
   ],
   "source": [
    "switch_count = number_of_switches_per_scene(os.path.join(data_dir, all_files[0]))\n",
    "switch_count"
   ]
  },
  {
   "cell_type": "code",
   "execution_count": 10,
   "metadata": {},
   "outputs": [
    {
     "data": {
      "text/plain": [
       "{'switches_positive': 100,\n",
       " 'switches_negative': 85,\n",
       " 'switches_neutral': 90,\n",
       " 'switches_nan': 139,\n",
       " 'switches_total': 414}"
      ]
     },
     "execution_count": 10,
     "metadata": {},
     "output_type": "execute_result"
    }
   ],
   "source": [
    "switch_count = number_of_switches(os.path.join(data_dir, all_files[0]))\n",
    "switch_count"
   ]
  },
  {
   "cell_type": "code",
   "execution_count": 57,
   "metadata": {},
   "outputs": [],
   "source": [
    "def euclidean_distance(x1, y1, x2, y2):\n",
    "    return np.sqrt((x2 - x1)**2 + (y2 - y1)**2)\n",
    "# Function to calculate total length of a scanpath\n",
    "def calculate_total_length(df):\n",
    "    total_length = 0\n",
    "    for i in range(1, len(df)):\n",
    "        x1, y1 = df.iloc[i - 1] ['RX'], df.iloc[i - 1]['RY']\n",
    "        x2, y2 = df.iloc[i]     ['RX'], df.iloc[i]    ['RY']\n",
    "        total_length += euclidean_distance(x1, y1, x2, y2)\n",
    "    return total_length\n",
    "\n",
    "def total_distance_scene(csv_path):\n",
    "    df = pd.read_csv(csv_path, header=0, index_col=0)\n",
    "    total_length_per_image = df.groupby('IMAGE_TYPE').apply(calculate_total_length)\n",
    "    \n",
    "    if total_length_per_image.empty:\n",
    "        results = {\n",
    "        'distance_positive': 0,\n",
    "        'distance_negative': 0,\n",
    "        'distance_neutral': 0}\n",
    "    else:   \n",
    "        results = {\n",
    "            'distance_positive': total_length_per_image['positive'],\n",
    "            'distance_negative': total_length_per_image['negative'],\n",
    "            'distance_neutral': total_length_per_image['neutral'],\n",
    "\n",
    "        }\n",
    "        \n",
    "   \n",
    "    return results\n",
    "    "
   ]
  },
  {
   "cell_type": "code",
   "execution_count": 58,
   "metadata": {},
   "outputs": [
    {
     "data": {
      "text/plain": [
       "{'distance_positive': 81.43569046996839,\n",
       " 'distance_negative': 61.84394945589903,\n",
       " 'distance_neutral': 66.78798276347858}"
      ]
     },
     "execution_count": 58,
     "metadata": {},
     "output_type": "execute_result"
    }
   ],
   "source": [
    "total_distance_scene(os.path.join(data_dir, all_files[0]))"
   ]
  },
  {
   "cell_type": "code",
   "execution_count": 59,
   "metadata": {},
   "outputs": [
    {
     "data": {
      "text/plain": [
       "{'velocity_positive': 0, 'velocity_negative': 0, 'velocity_neutral': 0}"
      ]
     },
     "execution_count": 59,
     "metadata": {},
     "output_type": "execute_result"
    }
   ],
   "source": [
    "def get_velocities(csv_path):\n",
    "    df = pd.read_csv(csv_path)\n",
    "    df.sort_values(by='TIMESTAMP')\n",
    "    time0 = df.drop(index = len(df) - 1)\n",
    "    time1 = df.drop(index = 0).reset_index()\n",
    "    rx_delta = time0['RX']-time1['RX']\n",
    "    ry_delta = time0['RY']-time1['RY']\n",
    "    velocity = (rx_delta**2 + ry_delta**2)**0.5\n",
    "    velocity = pd.concat([pd.Series([0]), velocity])\n",
    "    df['velocity'] = velocity.values\n",
    "    img_velocities = df.groupby('IMAGE_TYPE')['velocity'].mean()\n",
    "    \n",
    "    if img_velocities.empty:\n",
    "        results = {\n",
    "        'velocity_positive': 0,\n",
    "        'velocity_negative': 0,\n",
    "        'velocity_neutral': 0}\n",
    "    else:   \n",
    "        results = {\n",
    "            'velocity_positive': img_velocities['positive'],\n",
    "            'velocity_negative': img_velocities['negative'],\n",
    "            'velocity_neutral': img_velocities['neutral'],\n",
    "\n",
    "        }\n",
    "    \n",
    "    return results\n",
    "get_velocities(os.path.join(data_dir, 'sHsuhtf1RpCPKAcc1vTW.csv'))"
   ]
  },
  {
   "cell_type": "code",
   "execution_count": 60,
   "metadata": {},
   "outputs": [],
   "source": [
    "output_dir = '/Users/rooskraaijveld/Desktop/innovaid_hackathon_anima/output.csv'"
   ]
  },
  {
   "cell_type": "code",
   "execution_count": 65,
   "metadata": {},
   "outputs": [],
   "source": [
    "def analyse_all_csv(csv_path, output_path, save_path):\n",
    "    all_csv_files = os.listdir(csv_path)\n",
    "    \n",
    "    for file in range(0, len(all_csv_files)):\n",
    "        try:\n",
    "            print(\"Percentage done: \", file/len(all_csv_files)*100, \"%\", end='\\r' )\n",
    "            subject_csv_path = os.path.join(csv_path, all_csv_files[file])\n",
    "            subject = (subject_csv_path.split(\"/\")[-1]).split(\".csv\")[0]\n",
    "\n",
    "            df = pd.read_csv(output_path, header=0, index_col=0)\n",
    "\n",
    "            target_value = df.loc[df['sid'] == subject, 'BDI'].iloc[0]\n",
    "\n",
    "            if target_value >= 0 and target_value <= 9:\n",
    "                BDI = 0\n",
    "            if target_value >= 10 and target_value <= 19:\n",
    "                BDI = 1\n",
    "            if target_value >= 19 and target_value <= 29:\n",
    "                BDI = 2\n",
    "            if target_value >= 30 and target_value <= 64:\n",
    "                BDI = 3\n",
    "\n",
    "            switch_count = number_of_switches_per_scene(subject_csv_path)\n",
    "            average_durations = median_time_pos_neg_per_scene(subject_csv_path)\n",
    "            velocities = get_velocities(subject_csv_path)\n",
    "            distance = total_distance_scene(subject_csv_path)\n",
    "\n",
    "            results = {'subject':subject,'BDI_class': BDI,'BDI': target_value, **switch_count, **average_durations, **distance, **velocities}\n",
    "\n",
    "            df = pd.DataFrame([results])\n",
    "            csv_file_path = os.path.join(save_path, str(subject)+\"_variables.csv\")\n",
    "\n",
    "            df.to_csv(csv_file_path, index=False)\n",
    "        except Exception as e:\n",
    "            print(f\"An error occurred: {e}\")\n",
    "\n",
    "    print(\"Completed\")"
   ]
  },
  {
   "cell_type": "code",
   "execution_count": 66,
   "metadata": {
    "scrolled": false
   },
   "outputs": [
    {
     "name": "stdout",
     "output_type": "stream",
     "text": [
      "An error occurred: 'positive'3165699 %%%\n",
      "An error occurred: 'positive'840103 %%\n",
      "An error occurred: 'negative'789812 %%\n",
      "An error occurred: 'neutral'81947132 %\n",
      "An error occurred: 'negative'647969 %%\n",
      "An error occurred: 'neutral'98710505 %\n",
      "An error occurred: 'negative'627982 %%\n",
      "An error occurred: 'positive'8923276 %\n",
      "An error occurred: 'positive'996132 %%\n",
      "An error occurred: 'negative'565441 %\n",
      "An error occurred: 'neutral'0199871 %\n",
      "An error occurred: 'negative'36557 %%\n",
      "Completede done:  99.96776273372018 %\n"
     ]
    }
   ],
   "source": [
    "analyse_all_csv(data_dir, output_dir, '/Users/rooskraaijveld/Desktop/innovaid_hackathon_anima/csv_variables_2')"
   ]
  },
  {
   "cell_type": "code",
   "execution_count": null,
   "metadata": {},
   "outputs": [],
   "source": []
  },
  {
   "cell_type": "code",
   "execution_count": null,
   "metadata": {},
   "outputs": [],
   "source": []
  },
  {
   "cell_type": "code",
   "execution_count": null,
   "metadata": {},
   "outputs": [],
   "source": []
  }
 ],
 "metadata": {
  "kernelspec": {
   "display_name": "Python 3",
   "language": "python",
   "name": "python3"
  },
  "language_info": {
   "codemirror_mode": {
    "name": "ipython",
    "version": 3
   },
   "file_extension": ".py",
   "mimetype": "text/x-python",
   "name": "python",
   "nbconvert_exporter": "python",
   "pygments_lexer": "ipython3",
   "version": "3.11.6"
  }
 },
 "nbformat": 4,
 "nbformat_minor": 4
}
