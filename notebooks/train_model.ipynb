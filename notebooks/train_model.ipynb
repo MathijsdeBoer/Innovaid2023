{
 "cells": [
  {
   "cell_type": "markdown",
   "metadata": {},
   "source": [
    "# SkTime based model\n",
    "\n",
    "We found the SkTime package quite early on, which promised easy ways to train classifiers on time series data.\n",
    "Unfortunately, we had a lot of issues in wrangling the data into a shape that SkTime would actually accept.\n",
    "Finally, when we finally found a classifier that would take variable length time series, we weren't actually sure if it was training, due to the lack of training messages.\n",
    "\n",
    "We ended up dropping this avenue for a PyTorch based alternative."
   ]
  },
  {
   "cell_type": "code",
   "execution_count": 1,
   "metadata": {},
   "outputs": [],
   "source": [
    "from pathlib import Path\n",
    "\n",
    "import pandas as pd\n",
    "from sktime.datatypes import mtype\n",
    "from sktime.classification.kernel_based import TimeSeriesSVC\n",
    "from sklearn.model_selection import train_test_split\n",
    "from sklearn.metrics import accuracy_score\n",
    "\n",
    "from innovaid.dataloading import load_set"
   ]
  },
  {
   "cell_type": "code",
   "execution_count": 2,
   "metadata": {},
   "outputs": [
    {
     "name": "stdout",
     "output_type": "stream",
     "text": [
      "Found 3102 files\n"
     ]
    },
    {
     "name": "stderr",
     "output_type": "stream",
     "text": [
      "Loading ZZY7qwXSS8STjlthBKoK: 100%|██████████| 3102/3102 [02:41<00:00, 19.26it/s]\n"
     ]
    },
    {
     "data": {
      "text/html": [
       "<div>\n",
       "<style scoped>\n",
       "    .dataframe tbody tr th:only-of-type {\n",
       "        vertical-align: middle;\n",
       "    }\n",
       "\n",
       "    .dataframe tbody tr th {\n",
       "        vertical-align: top;\n",
       "    }\n",
       "\n",
       "    .dataframe thead th {\n",
       "        text-align: right;\n",
       "    }\n",
       "</style>\n",
       "<table border=\"1\" class=\"dataframe\">\n",
       "  <thead>\n",
       "    <tr style=\"text-align: right;\">\n",
       "      <th></th>\n",
       "      <th></th>\n",
       "      <th>IMAGE_POSITION</th>\n",
       "      <th>IMAGE_TYPE</th>\n",
       "      <th>SCENE_INDEX</th>\n",
       "      <th>RX</th>\n",
       "      <th>RY</th>\n",
       "      <th>RANGE_BDI</th>\n",
       "    </tr>\n",
       "    <tr>\n",
       "      <th>SESSIONID</th>\n",
       "      <th>TIME</th>\n",
       "      <th></th>\n",
       "      <th></th>\n",
       "      <th></th>\n",
       "      <th></th>\n",
       "      <th></th>\n",
       "      <th></th>\n",
       "    </tr>\n",
       "  </thead>\n",
       "  <tbody>\n",
       "    <tr>\n",
       "      <th rowspan=\"5\" valign=\"top\">0</th>\n",
       "      <th>0</th>\n",
       "      <td>right</td>\n",
       "      <td>neutral</td>\n",
       "      <td>1.0</td>\n",
       "      <td>0.555453</td>\n",
       "      <td>0.448529</td>\n",
       "      <td>mild</td>\n",
       "    </tr>\n",
       "    <tr>\n",
       "      <th>1</th>\n",
       "      <td>right</td>\n",
       "      <td>neutral</td>\n",
       "      <td>1.0</td>\n",
       "      <td>0.549212</td>\n",
       "      <td>0.449412</td>\n",
       "      <td>mild</td>\n",
       "    </tr>\n",
       "    <tr>\n",
       "      <th>2</th>\n",
       "      <td>right</td>\n",
       "      <td>neutral</td>\n",
       "      <td>1.0</td>\n",
       "      <td>0.546846</td>\n",
       "      <td>0.452118</td>\n",
       "      <td>mild</td>\n",
       "    </tr>\n",
       "    <tr>\n",
       "      <th>3</th>\n",
       "      <td>right</td>\n",
       "      <td>neutral</td>\n",
       "      <td>1.0</td>\n",
       "      <td>0.544481</td>\n",
       "      <td>0.454824</td>\n",
       "      <td>mild</td>\n",
       "    </tr>\n",
       "    <tr>\n",
       "      <th>4</th>\n",
       "      <td>right</td>\n",
       "      <td>neutral</td>\n",
       "      <td>1.0</td>\n",
       "      <td>0.551084</td>\n",
       "      <td>0.471765</td>\n",
       "      <td>mild</td>\n",
       "    </tr>\n",
       "  </tbody>\n",
       "</table>\n",
       "</div>"
      ],
      "text/plain": [
       "               IMAGE_POSITION IMAGE_TYPE  SCENE_INDEX        RX        RY  \\\n",
       "SESSIONID TIME                                                              \n",
       "0         0             right    neutral          1.0  0.555453  0.448529   \n",
       "          1             right    neutral          1.0  0.549212  0.449412   \n",
       "          2             right    neutral          1.0  0.546846  0.452118   \n",
       "          3             right    neutral          1.0  0.544481  0.454824   \n",
       "          4             right    neutral          1.0  0.551084  0.471765   \n",
       "\n",
       "               RANGE_BDI  \n",
       "SESSIONID TIME            \n",
       "0         0         mild  \n",
       "          1         mild  \n",
       "          2         mild  \n",
       "          3         mild  \n",
       "          4         mild  "
      ]
     },
     "execution_count": 2,
     "metadata": {},
     "output_type": "execute_result"
    }
   ],
   "source": [
    "dataset = load_set(Path(r\"../../data/preprocessed/samples/\"))\n",
    "dataset.head()"
   ]
  },
  {
   "cell_type": "code",
   "execution_count": 3,
   "metadata": {},
   "outputs": [
    {
     "name": "stdout",
     "output_type": "stream",
     "text": [
      "{'NONE': 0, 'positive': 1, 'negative': 2, 'neutral': 3}\n",
      "{'NONE': 0, 'left': 1, 'right': 2}\n",
      "{'min': 0, 'mild': 1, 'moderate': 2, 'mod_severe': 3}\n"
     ]
    }
   ],
   "source": [
    "type_mapping = {\n",
    "    \"NONE\": 0,\n",
    "    \"positive\": 1,\n",
    "    \"negative\": 2,\n",
    "    \"neutral\": 3,\n",
    "}\n",
    "side_mapping = {\n",
    "    \"NONE\": 0,\n",
    "    \"left\": 1,\n",
    "    \"right\": 2,\n",
    "}\n",
    "bdi_mapping = {\n",
    "    \"min\": 0,\n",
    "    \"mild\": 1,\n",
    "    \"moderate\": 2,\n",
    "    \"mod_severe\": 3,\n",
    "}\n",
    "\n",
    "print(type_mapping)\n",
    "print(side_mapping)\n",
    "print(bdi_mapping)"
   ]
  },
  {
   "cell_type": "code",
   "execution_count": 4,
   "metadata": {},
   "outputs": [
    {
     "data": {
      "text/html": [
       "<div>\n",
       "<style scoped>\n",
       "    .dataframe tbody tr th:only-of-type {\n",
       "        vertical-align: middle;\n",
       "    }\n",
       "\n",
       "    .dataframe tbody tr th {\n",
       "        vertical-align: top;\n",
       "    }\n",
       "\n",
       "    .dataframe thead th {\n",
       "        text-align: right;\n",
       "    }\n",
       "</style>\n",
       "<table border=\"1\" class=\"dataframe\">\n",
       "  <thead>\n",
       "    <tr style=\"text-align: right;\">\n",
       "      <th></th>\n",
       "      <th></th>\n",
       "      <th>IMAGE_POSITION</th>\n",
       "      <th>IMAGE_TYPE</th>\n",
       "      <th>SCENE_INDEX</th>\n",
       "      <th>RX</th>\n",
       "      <th>RY</th>\n",
       "      <th>RANGE_BDI</th>\n",
       "    </tr>\n",
       "    <tr>\n",
       "      <th>SESSIONID</th>\n",
       "      <th>TIME</th>\n",
       "      <th></th>\n",
       "      <th></th>\n",
       "      <th></th>\n",
       "      <th></th>\n",
       "      <th></th>\n",
       "      <th></th>\n",
       "    </tr>\n",
       "  </thead>\n",
       "  <tbody>\n",
       "    <tr>\n",
       "      <th rowspan=\"5\" valign=\"top\">0</th>\n",
       "      <th>0</th>\n",
       "      <td>2</td>\n",
       "      <td>3</td>\n",
       "      <td>1</td>\n",
       "      <td>0.555453</td>\n",
       "      <td>0.448529</td>\n",
       "      <td>1</td>\n",
       "    </tr>\n",
       "    <tr>\n",
       "      <th>1</th>\n",
       "      <td>2</td>\n",
       "      <td>3</td>\n",
       "      <td>1</td>\n",
       "      <td>0.549212</td>\n",
       "      <td>0.449412</td>\n",
       "      <td>1</td>\n",
       "    </tr>\n",
       "    <tr>\n",
       "      <th>2</th>\n",
       "      <td>2</td>\n",
       "      <td>3</td>\n",
       "      <td>1</td>\n",
       "      <td>0.546846</td>\n",
       "      <td>0.452118</td>\n",
       "      <td>1</td>\n",
       "    </tr>\n",
       "    <tr>\n",
       "      <th>3</th>\n",
       "      <td>2</td>\n",
       "      <td>3</td>\n",
       "      <td>1</td>\n",
       "      <td>0.544481</td>\n",
       "      <td>0.454824</td>\n",
       "      <td>1</td>\n",
       "    </tr>\n",
       "    <tr>\n",
       "      <th>4</th>\n",
       "      <td>2</td>\n",
       "      <td>3</td>\n",
       "      <td>1</td>\n",
       "      <td>0.551084</td>\n",
       "      <td>0.471765</td>\n",
       "      <td>1</td>\n",
       "    </tr>\n",
       "  </tbody>\n",
       "</table>\n",
       "</div>"
      ],
      "text/plain": [
       "                IMAGE_POSITION  IMAGE_TYPE  SCENE_INDEX        RX        RY  \\\n",
       "SESSIONID TIME                                                                \n",
       "0         0                  2           3            1  0.555453  0.448529   \n",
       "          1                  2           3            1  0.549212  0.449412   \n",
       "          2                  2           3            1  0.546846  0.452118   \n",
       "          3                  2           3            1  0.544481  0.454824   \n",
       "          4                  2           3            1  0.551084  0.471765   \n",
       "\n",
       "                RANGE_BDI  \n",
       "SESSIONID TIME             \n",
       "0         0             1  \n",
       "          1             1  \n",
       "          2             1  \n",
       "          3             1  \n",
       "          4             1  "
      ]
     },
     "execution_count": 4,
     "metadata": {},
     "output_type": "execute_result"
    }
   ],
   "source": [
    "dataset[\"IMAGE_TYPE\"] = dataset[\"IMAGE_TYPE\"].map(type_mapping)\n",
    "dataset[\"IMAGE_POSITION\"] = dataset[\"IMAGE_POSITION\"].map(side_mapping)\n",
    "dataset[\"RANGE_BDI\"] = dataset[\"RANGE_BDI\"].map(bdi_mapping)\n",
    "dataset[\"SCENE_INDEX\"] = dataset[\"SCENE_INDEX\"].astype(int)\n",
    "dataset.head()"
   ]
  },
  {
   "cell_type": "code",
   "execution_count": 5,
   "metadata": {},
   "outputs": [
    {
     "name": "stdout",
     "output_type": "stream",
     "text": [
      "Finding unique sessions...\n",
      "Splitting dataset into train and test sets...\n",
      "Generating train set...\n",
      "Generating test set...\n"
     ]
    }
   ],
   "source": [
    "print(\"Finding unique sessions...\")\n",
    "sessions = list(set([x[0] for x in dataset.index.unique()]))\n",
    "\n",
    "print(\"Splitting dataset into train and test sets...\")\n",
    "train_sessions, test_sessions = train_test_split(\n",
    "    sessions, test_size=0.2, random_state=42\n",
    ")\n",
    "\n",
    "print(\"Generating train set...\")\n",
    "train_x = dataset.loc[train_sessions]\n",
    "train_y = dataset.loc[train_sessions]\n",
    "\n",
    "print(\"Generating test set...\")\n",
    "test_x = dataset.loc[test_sessions]\n",
    "test_y = dataset.loc[test_sessions]"
   ]
  },
  {
   "cell_type": "code",
   "execution_count": 6,
   "metadata": {},
   "outputs": [
    {
     "data": {
      "text/plain": [
       "'pd-multiindex'"
      ]
     },
     "execution_count": 6,
     "metadata": {},
     "output_type": "execute_result"
    }
   ],
   "source": [
    "mtype(train_x, as_scitype=\"Panel\")\n",
    "mtype(test_x, as_scitype=\"Panel\")"
   ]
  },
  {
   "cell_type": "code",
   "execution_count": 7,
   "metadata": {},
   "outputs": [],
   "source": [
    "# Compact the labels to only sessionid and collapse repeated ind\n",
    "train_y = train_y.reset_index().groupby(\"SESSIONID\").first().loc[:, \"RANGE_BDI\"].to_numpy()\n",
    "test_y = test_y.reset_index().groupby(\"SESSIONID\").first().loc[:, \"RANGE_BDI\"].to_numpy()"
   ]
  },
  {
   "cell_type": "code",
   "execution_count": 8,
   "metadata": {},
   "outputs": [],
   "source": [
    "train_x = pd.DataFrame(train_x[\"IMAGE_TYPE\"])\n",
    "test_x = pd.DataFrame(test_x[\"IMAGE_TYPE\"])"
   ]
  },
  {
   "cell_type": "code",
   "execution_count": 10,
   "metadata": {},
   "outputs": [
    {
     "ename": "KeyboardInterrupt",
     "evalue": "",
     "output_type": "error",
     "traceback": [
      "\u001b[1;31m---------------------------------------------------------------------------\u001b[0m",
      "\u001b[1;31mKeyboardInterrupt\u001b[0m                         Traceback (most recent call last)",
      "\u001b[1;32mc:\\Users\\czori\\Documents\\Innovaid2023\\Innovaid2023\\notebooks\\train_model.ipynb Cell 9\u001b[0m line \u001b[0;36m2\n\u001b[0;32m      <a href='vscode-notebook-cell:/c%3A/Users/czori/Documents/Innovaid2023/Innovaid2023/notebooks/train_model.ipynb#X13sZmlsZQ%3D%3D?line=0'>1</a>\u001b[0m classifier \u001b[39m=\u001b[39m TimeSeriesSVC()\n\u001b[1;32m----> <a href='vscode-notebook-cell:/c%3A/Users/czori/Documents/Innovaid2023/Innovaid2023/notebooks/train_model.ipynb#X13sZmlsZQ%3D%3D?line=1'>2</a>\u001b[0m classifier\u001b[39m.\u001b[39;49mfit(train_x, train_y)\n",
      "File \u001b[1;32mc:\\Users\\czori\\Documents\\Innovaid2023\\.venv\\Lib\\site-packages\\sktime\\classification\\base.py:203\u001b[0m, in \u001b[0;36mBaseClassifier.fit\u001b[1;34m(self, X, y)\u001b[0m\n\u001b[0;32m    198\u001b[0m         \u001b[39mraise\u001b[39;00m \u001b[39mAttributeError\u001b[39;00m(\n\u001b[0;32m    199\u001b[0m             \u001b[39m\"\u001b[39m\u001b[39mself.n_jobs must be set if capability:multithreading is True\u001b[39m\u001b[39m\"\u001b[39m\n\u001b[0;32m    200\u001b[0m         )\n\u001b[0;32m    202\u001b[0m \u001b[39m# pass coerced and checked data to inner _fit\u001b[39;00m\n\u001b[1;32m--> 203\u001b[0m \u001b[39mself\u001b[39;49m\u001b[39m.\u001b[39;49m_fit(X, y)\n\u001b[0;32m    204\u001b[0m \u001b[39mself\u001b[39m\u001b[39m.\u001b[39mfit_time_ \u001b[39m=\u001b[39m \u001b[39mint\u001b[39m(\u001b[39mround\u001b[39m(time\u001b[39m.\u001b[39mtime() \u001b[39m*\u001b[39m \u001b[39m1000\u001b[39m)) \u001b[39m-\u001b[39m start\n\u001b[0;32m    206\u001b[0m \u001b[39m# this should happen last\u001b[39;00m\n",
      "File \u001b[1;32mc:\\Users\\czori\\Documents\\Innovaid2023\\.venv\\Lib\\site-packages\\sktime\\classification\\kernel_based\\_svc.py:214\u001b[0m, in \u001b[0;36mTimeSeriesSVC._fit\u001b[1;34m(self, X, y)\u001b[0m\n\u001b[0;32m    211\u001b[0m \u001b[39m# store full data as indexed X\u001b[39;00m\n\u001b[0;32m    212\u001b[0m \u001b[39mself\u001b[39m\u001b[39m.\u001b[39m_X \u001b[39m=\u001b[39m X\n\u001b[1;32m--> 214\u001b[0m kernel_mat \u001b[39m=\u001b[39m \u001b[39mself\u001b[39;49m\u001b[39m.\u001b[39;49m_kernel(X)\n\u001b[0;32m    216\u001b[0m \u001b[39mself\u001b[39m\u001b[39m.\u001b[39msvc_estimator_\u001b[39m.\u001b[39mfit(kernel_mat, y)\n\u001b[0;32m    218\u001b[0m \u001b[39mreturn\u001b[39;00m \u001b[39mself\u001b[39m\n",
      "File \u001b[1;32mc:\\Users\\czori\\Documents\\Innovaid2023\\.venv\\Lib\\site-packages\\sktime\\classification\\kernel_based\\_svc.py:199\u001b[0m, in \u001b[0;36mTimeSeriesSVC._kernel\u001b[1;34m(self, X, X2)\u001b[0m\n\u001b[0;32m    197\u001b[0m     \u001b[39mreturn\u001b[39;00m kernel(X, X2, \u001b[39m*\u001b[39m\u001b[39m*\u001b[39mkernel_params)\n\u001b[0;32m    198\u001b[0m \u001b[39melse\u001b[39;00m:\n\u001b[1;32m--> 199\u001b[0m     \u001b[39mreturn\u001b[39;00m kernel(X, \u001b[39m*\u001b[39;49m\u001b[39m*\u001b[39;49mkernel_params)\n",
      "File \u001b[1;32mc:\\Users\\czori\\Documents\\Innovaid2023\\.venv\\Lib\\site-packages\\sktime\\dists_kernels\\base\\_base.py:231\u001b[0m, in \u001b[0;36mBasePairwiseTransformerPanel.__call__\u001b[1;34m(self, X, X2)\u001b[0m\n\u001b[0;32m    200\u001b[0m \u001b[39m\u001b[39m\u001b[39m\"\"\"Compute distance/kernel matrix, call shorthand.\u001b[39;00m\n\u001b[0;32m    201\u001b[0m \n\u001b[0;32m    202\u001b[0m \u001b[39mBehaviour: returns pairwise distance/kernel matrix\u001b[39;00m\n\u001b[1;32m   (...)\u001b[0m\n\u001b[0;32m    227\u001b[0m \u001b[39m    (i,j)-th entry contains distance/kernel between X[i] and X2[j]\u001b[39;00m\n\u001b[0;32m    228\u001b[0m \u001b[39m\"\"\"\u001b[39;00m\n\u001b[0;32m    229\u001b[0m \u001b[39m# no input checks or input logic here, these are done in transform\u001b[39;00m\n\u001b[0;32m    230\u001b[0m \u001b[39m# this just defines __call__ as an alias for transform\u001b[39;00m\n\u001b[1;32m--> 231\u001b[0m \u001b[39mreturn\u001b[39;00m \u001b[39mself\u001b[39;49m\u001b[39m.\u001b[39;49mtransform(X\u001b[39m=\u001b[39;49mX, X2\u001b[39m=\u001b[39;49mX2)\n",
      "File \u001b[1;32mc:\\Users\\czori\\Documents\\Innovaid2023\\.venv\\Lib\\site-packages\\sktime\\dists_kernels\\base\\_base.py:413\u001b[0m, in \u001b[0;36mBasePairwiseTransformerPanel.transform\u001b[1;34m(self, X, X2)\u001b[0m\n\u001b[0;32m    410\u001b[0m \u001b[39melse\u001b[39;00m:\n\u001b[0;32m    411\u001b[0m     X2 \u001b[39m=\u001b[39m \u001b[39mself\u001b[39m\u001b[39m.\u001b[39m_pairwise_panel_x_check(X2, var_name\u001b[39m=\u001b[39m\u001b[39m\"\u001b[39m\u001b[39mX2\u001b[39m\u001b[39m\"\u001b[39m)\n\u001b[1;32m--> 413\u001b[0m \u001b[39mreturn\u001b[39;00m \u001b[39mself\u001b[39;49m\u001b[39m.\u001b[39;49m_transform(X\u001b[39m=\u001b[39;49mX, X2\u001b[39m=\u001b[39;49mX2)\n",
      "File \u001b[1;32mc:\\Users\\czori\\Documents\\Innovaid2023\\.venv\\Lib\\site-packages\\sktime\\dists_kernels\\compose_tab_to_panel.py:137\u001b[0m, in \u001b[0;36mAggrDist._transform\u001b[1;34m(self, X, X2)\u001b[0m\n\u001b[0;32m    135\u001b[0m             distmat[i, j] \u001b[39m=\u001b[39m distmat[j, i]\n\u001b[0;32m    136\u001b[0m         \u001b[39melse\u001b[39;00m:\n\u001b[1;32m--> 137\u001b[0m             distmat[i, j] \u001b[39m=\u001b[39m aggfunc(\u001b[39mself\u001b[39;49m\u001b[39m.\u001b[39;49mtransformer(X[i], X2[j]))\n\u001b[0;32m    139\u001b[0m \u001b[39mreturn\u001b[39;00m distmat\n",
      "File \u001b[1;32mc:\\Users\\czori\\Documents\\Innovaid2023\\.venv\\Lib\\site-packages\\sklearn\\gaussian_process\\kernels.py:1544\u001b[0m, in \u001b[0;36mRBF.__call__\u001b[1;34m(self, X, Y, eval_gradient)\u001b[0m\n\u001b[0;32m   1542\u001b[0m         \u001b[39mraise\u001b[39;00m \u001b[39mValueError\u001b[39;00m(\u001b[39m\"\u001b[39m\u001b[39mGradient can only be evaluated when Y is None.\u001b[39m\u001b[39m\"\u001b[39m)\n\u001b[0;32m   1543\u001b[0m     dists \u001b[39m=\u001b[39m cdist(X \u001b[39m/\u001b[39m length_scale, Y \u001b[39m/\u001b[39m length_scale, metric\u001b[39m=\u001b[39m\u001b[39m\"\u001b[39m\u001b[39msqeuclidean\u001b[39m\u001b[39m\"\u001b[39m)\n\u001b[1;32m-> 1544\u001b[0m     K \u001b[39m=\u001b[39m np\u001b[39m.\u001b[39;49mexp(\u001b[39m-\u001b[39;49m\u001b[39m0.5\u001b[39;49m \u001b[39m*\u001b[39;49m dists)\n\u001b[0;32m   1546\u001b[0m \u001b[39mif\u001b[39;00m eval_gradient:\n\u001b[0;32m   1547\u001b[0m     \u001b[39mif\u001b[39;00m \u001b[39mself\u001b[39m\u001b[39m.\u001b[39mhyperparameter_length_scale\u001b[39m.\u001b[39mfixed:\n\u001b[0;32m   1548\u001b[0m         \u001b[39m# Hyperparameter l kept fixed\u001b[39;00m\n",
      "\u001b[1;31mKeyboardInterrupt\u001b[0m: "
     ]
    }
   ],
   "source": [
    "classifier = TimeSeriesSVC()\n",
    "classifier.fit(train_x, train_y)"
   ]
  },
  {
   "cell_type": "code",
   "execution_count": 11,
   "metadata": {},
   "outputs": [
    {
     "ename": "NotFittedError",
     "evalue": "This instance of TimeSeriesSVC has not been fitted yet; please call `fit` first.",
     "output_type": "error",
     "traceback": [
      "\u001b[1;31m---------------------------------------------------------------------------\u001b[0m",
      "\u001b[1;31mNotFittedError\u001b[0m                            Traceback (most recent call last)",
      "\u001b[1;32mc:\\Users\\czori\\Documents\\Innovaid2023\\Innovaid2023\\notebooks\\train_model.ipynb Cell 10\u001b[0m line \u001b[0;36m1\n\u001b[1;32m----> <a href='vscode-notebook-cell:/c%3A/Users/czori/Documents/Innovaid2023/Innovaid2023/notebooks/train_model.ipynb#X14sZmlsZQ%3D%3D?line=0'>1</a>\u001b[0m y_pred \u001b[39m=\u001b[39m classifier\u001b[39m.\u001b[39;49mpredict(test_x)\n",
      "File \u001b[1;32mc:\\Users\\czori\\Documents\\Innovaid2023\\.venv\\Lib\\site-packages\\sktime\\classification\\base.py:230\u001b[0m, in \u001b[0;36mBaseClassifier.predict\u001b[1;34m(self, X)\u001b[0m\n\u001b[0;32m    210\u001b[0m \u001b[39mdef\u001b[39;00m \u001b[39mpredict\u001b[39m(\u001b[39mself\u001b[39m, X) \u001b[39m-\u001b[39m\u001b[39m>\u001b[39m np\u001b[39m.\u001b[39mndarray:\n\u001b[0;32m    211\u001b[0m \u001b[39m    \u001b[39m\u001b[39m\"\"\"Predicts labels for sequences in X.\u001b[39;00m\n\u001b[0;32m    212\u001b[0m \n\u001b[0;32m    213\u001b[0m \u001b[39m    Parameters\u001b[39;00m\n\u001b[1;32m   (...)\u001b[0m\n\u001b[0;32m    228\u001b[0m \u001b[39m        indices correspond to instance indices in X\u001b[39;00m\n\u001b[0;32m    229\u001b[0m \u001b[39m    \"\"\"\u001b[39;00m\n\u001b[1;32m--> 230\u001b[0m     \u001b[39mself\u001b[39;49m\u001b[39m.\u001b[39;49mcheck_is_fitted()\n\u001b[0;32m    232\u001b[0m     \u001b[39m# boilerplate input checks for predict-like methods\u001b[39;00m\n\u001b[0;32m    233\u001b[0m     X \u001b[39m=\u001b[39m \u001b[39mself\u001b[39m\u001b[39m.\u001b[39m_check_convert_X_for_predict(X)\n",
      "File \u001b[1;32mc:\\Users\\czori\\Documents\\Innovaid2023\\.venv\\Lib\\site-packages\\sktime\\base\\_base.py:483\u001b[0m, in \u001b[0;36mBaseEstimator.check_is_fitted\u001b[1;34m(self)\u001b[0m\n\u001b[0;32m    475\u001b[0m \u001b[39m\u001b[39m\u001b[39m\"\"\"Check if the estimator has been fitted.\u001b[39;00m\n\u001b[0;32m    476\u001b[0m \n\u001b[0;32m    477\u001b[0m \u001b[39mRaises\u001b[39;00m\n\u001b[1;32m   (...)\u001b[0m\n\u001b[0;32m    480\u001b[0m \u001b[39m    If the estimator has not been fitted yet.\u001b[39;00m\n\u001b[0;32m    481\u001b[0m \u001b[39m\"\"\"\u001b[39;00m\n\u001b[0;32m    482\u001b[0m \u001b[39mif\u001b[39;00m \u001b[39mnot\u001b[39;00m \u001b[39mself\u001b[39m\u001b[39m.\u001b[39mis_fitted:\n\u001b[1;32m--> 483\u001b[0m     \u001b[39mraise\u001b[39;00m NotFittedError(\n\u001b[0;32m    484\u001b[0m         \u001b[39mf\u001b[39m\u001b[39m\"\u001b[39m\u001b[39mThis instance of \u001b[39m\u001b[39m{\u001b[39;00m\u001b[39mself\u001b[39m\u001b[39m.\u001b[39m\u001b[39m__class__\u001b[39m\u001b[39m.\u001b[39m\u001b[39m__name__\u001b[39m\u001b[39m}\u001b[39;00m\u001b[39m has not \u001b[39m\u001b[39m\"\u001b[39m\n\u001b[0;32m    485\u001b[0m         \u001b[39mf\u001b[39m\u001b[39m\"\u001b[39m\u001b[39mbeen fitted yet; please call `fit` first.\u001b[39m\u001b[39m\"\u001b[39m\n\u001b[0;32m    486\u001b[0m     )\n",
      "\u001b[1;31mNotFittedError\u001b[0m: This instance of TimeSeriesSVC has not been fitted yet; please call `fit` first."
     ]
    }
   ],
   "source": [
    "y_pred = classifier.predict(test_x)"
   ]
  },
  {
   "cell_type": "code",
   "execution_count": null,
   "metadata": {},
   "outputs": [],
   "source": [
    "accuracy_score(test_y, y_pred)"
   ]
  },
  {
   "cell_type": "code",
   "execution_count": null,
   "metadata": {},
   "outputs": [],
   "source": [
    "# Save the model\n",
    "import pickle\n",
    "\n",
    "with open(\"model.pkl\", \"wb\") as f:\n",
    "    pickle.dump(classifier, f)\n"
   ]
  },
  {
   "cell_type": "code",
   "execution_count": null,
   "metadata": {},
   "outputs": [],
   "source": []
  }
 ],
 "metadata": {
  "kernelspec": {
   "display_name": ".venv",
   "language": "python",
   "name": "python3"
  },
  "language_info": {
   "codemirror_mode": {
    "name": "ipython",
    "version": 3
   },
   "file_extension": ".py",
   "mimetype": "text/x-python",
   "name": "python",
   "nbconvert_exporter": "python",
   "pygments_lexer": "ipython3",
   "version": "3.11.6"
  }
 },
 "nbformat": 4,
 "nbformat_minor": 2
}
