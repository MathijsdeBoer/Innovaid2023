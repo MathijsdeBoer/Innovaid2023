{
 "cells": [
  {
   "cell_type": "code",
   "execution_count": 25,
   "metadata": {},
   "outputs": [],
   "source": [
    "from pathlib import Path\n",
    "\n",
    "import pandas as pd\n",
    "from sktime import registry\n",
    "from sktime.datatypes import check_is_mtype, MTYPE_REGISTER, convert_to, mtype\n",
    "from sktime.classification.interval_based import TimeSeriesForestClassifier, CanonicalIntervalForest\n",
    "from sktime.classification.feature_based import Catch22Classifier, FreshPRINCE\n",
    "from sktime.classification.kernel_based import TimeSeriesSVC\n",
    "from sklearn.model_selection import train_test_split\n",
    "from sklearn.metrics import accuracy_score\n",
    "\n",
    "from innovaid.dataloading import load_set"
   ]
  },
  {
   "cell_type": "code",
   "execution_count": 2,
   "metadata": {},
   "outputs": [
    {
     "name": "stdout",
     "output_type": "stream",
     "text": [
      "Found 35 files\n"
     ]
    },
    {
     "name": "stderr",
     "output_type": "stream",
     "text": [
      "Loading 0aa0abPoXao4AYllJqUT:   0%|          | 0/35 [00:00<?, ?it/s]"
     ]
    },
    {
     "name": "stderr",
     "output_type": "stream",
     "text": [
      "Loading 0ry2PkzfUruhOlbQQVVB: 100%|██████████| 35/35 [00:50<00:00,  1.46s/it]\n"
     ]
    }
   ],
   "source": [
    "dataset = load_set(Path(r\"../../data/proto/samples/\"))"
   ]
  },
  {
   "cell_type": "code",
   "execution_count": 3,
   "metadata": {},
   "outputs": [
    {
     "data": {
      "text/html": [
       "<div>\n",
       "<style scoped>\n",
       "    .dataframe tbody tr th:only-of-type {\n",
       "        vertical-align: middle;\n",
       "    }\n",
       "\n",
       "    .dataframe tbody tr th {\n",
       "        vertical-align: top;\n",
       "    }\n",
       "\n",
       "    .dataframe thead th {\n",
       "        text-align: right;\n",
       "    }\n",
       "</style>\n",
       "<table border=\"1\" class=\"dataframe\">\n",
       "  <thead>\n",
       "    <tr style=\"text-align: right;\">\n",
       "      <th></th>\n",
       "      <th></th>\n",
       "      <th>IMAGE_POSITION</th>\n",
       "      <th>IMAGE_TYPE</th>\n",
       "      <th>SCENE_INDEX</th>\n",
       "      <th>RX</th>\n",
       "      <th>RY</th>\n",
       "      <th>RANGE_BDI</th>\n",
       "    </tr>\n",
       "    <tr>\n",
       "      <th>SESSIONID</th>\n",
       "      <th>TIME</th>\n",
       "      <th></th>\n",
       "      <th></th>\n",
       "      <th></th>\n",
       "      <th></th>\n",
       "      <th></th>\n",
       "      <th></th>\n",
       "    </tr>\n",
       "  </thead>\n",
       "  <tbody>\n",
       "    <tr>\n",
       "      <th rowspan=\"5\" valign=\"top\">0</th>\n",
       "      <th>0</th>\n",
       "      <td>right</td>\n",
       "      <td>positive</td>\n",
       "      <td>1.0</td>\n",
       "      <td>0.722431</td>\n",
       "      <td>0.189333</td>\n",
       "      <td>min</td>\n",
       "    </tr>\n",
       "    <tr>\n",
       "      <th>1</th>\n",
       "      <td>NONE</td>\n",
       "      <td>NONE</td>\n",
       "      <td>1.0</td>\n",
       "      <td>0.720382</td>\n",
       "      <td>0.170944</td>\n",
       "      <td>min</td>\n",
       "    </tr>\n",
       "    <tr>\n",
       "      <th>2</th>\n",
       "      <td>NONE</td>\n",
       "      <td>NONE</td>\n",
       "      <td>1.0</td>\n",
       "      <td>0.718333</td>\n",
       "      <td>0.152556</td>\n",
       "      <td>min</td>\n",
       "    </tr>\n",
       "    <tr>\n",
       "      <th>3</th>\n",
       "      <td>right</td>\n",
       "      <td>positive</td>\n",
       "      <td>1.0</td>\n",
       "      <td>0.726667</td>\n",
       "      <td>0.195111</td>\n",
       "      <td>min</td>\n",
       "    </tr>\n",
       "    <tr>\n",
       "      <th>4</th>\n",
       "      <td>right</td>\n",
       "      <td>positive</td>\n",
       "      <td>1.0</td>\n",
       "      <td>0.735000</td>\n",
       "      <td>0.237667</td>\n",
       "      <td>min</td>\n",
       "    </tr>\n",
       "  </tbody>\n",
       "</table>\n",
       "</div>"
      ],
      "text/plain": [
       "               IMAGE_POSITION IMAGE_TYPE  SCENE_INDEX        RX        RY  \\\n",
       "SESSIONID TIME                                                              \n",
       "0         0             right   positive          1.0  0.722431  0.189333   \n",
       "          1              NONE       NONE          1.0  0.720382  0.170944   \n",
       "          2              NONE       NONE          1.0  0.718333  0.152556   \n",
       "          3             right   positive          1.0  0.726667  0.195111   \n",
       "          4             right   positive          1.0  0.735000  0.237667   \n",
       "\n",
       "               RANGE_BDI  \n",
       "SESSIONID TIME            \n",
       "0         0          min  \n",
       "          1          min  \n",
       "          2          min  \n",
       "          3          min  \n",
       "          4          min  "
      ]
     },
     "execution_count": 3,
     "metadata": {},
     "output_type": "execute_result"
    }
   ],
   "source": [
    "dataset.head()"
   ]
  },
  {
   "cell_type": "code",
   "execution_count": 4,
   "metadata": {},
   "outputs": [
    {
     "data": {
      "text/plain": [
       "SESSIONID  TIME\n",
       "0          0        min\n",
       "           1        min\n",
       "           2        min\n",
       "           3        min\n",
       "           4        min\n",
       "                   ... \n",
       "34         7490    mild\n",
       "           7491    mild\n",
       "           7492    mild\n",
       "           7493    mild\n",
       "           7494    mild\n",
       "Name: RANGE_BDI, Length: 268007, dtype: object"
      ]
     },
     "execution_count": 4,
     "metadata": {},
     "output_type": "execute_result"
    }
   ],
   "source": [
    "dataset[\"RANGE_BDI\"]"
   ]
  },
  {
   "cell_type": "code",
   "execution_count": 5,
   "metadata": {},
   "outputs": [
    {
     "name": "stdout",
     "output_type": "stream",
     "text": [
      "{'NONE': 0, 'positive': 1, 'negative': 2, 'neutral': 3}\n",
      "{'NONE': 0, 'left': 1, 'right': 2}\n",
      "{'min': 0, 'mild': 1, 'moderate': 2, 'mod_severe': 3}\n"
     ]
    }
   ],
   "source": [
    "type_mapping = {\n",
    "    \"NONE\": 0,\n",
    "    \"positive\": 1,\n",
    "    \"negative\": 2,\n",
    "    \"neutral\": 3,\n",
    "}\n",
    "side_mapping = {\n",
    "    \"NONE\": 0,\n",
    "    \"left\": 1,\n",
    "    \"right\": 2,\n",
    "}\n",
    "bdi_mapping = {\n",
    "    \"min\": 0,\n",
    "    \"mild\": 1,\n",
    "    \"moderate\": 2,\n",
    "    \"mod_severe\": 3,\n",
    "}\n",
    "\n",
    "print(type_mapping)\n",
    "print(side_mapping)\n",
    "print(bdi_mapping)"
   ]
  },
  {
   "cell_type": "code",
   "execution_count": 6,
   "metadata": {},
   "outputs": [
    {
     "data": {
      "text/html": [
       "<div>\n",
       "<style scoped>\n",
       "    .dataframe tbody tr th:only-of-type {\n",
       "        vertical-align: middle;\n",
       "    }\n",
       "\n",
       "    .dataframe tbody tr th {\n",
       "        vertical-align: top;\n",
       "    }\n",
       "\n",
       "    .dataframe thead th {\n",
       "        text-align: right;\n",
       "    }\n",
       "</style>\n",
       "<table border=\"1\" class=\"dataframe\">\n",
       "  <thead>\n",
       "    <tr style=\"text-align: right;\">\n",
       "      <th></th>\n",
       "      <th></th>\n",
       "      <th>IMAGE_POSITION</th>\n",
       "      <th>IMAGE_TYPE</th>\n",
       "      <th>SCENE_INDEX</th>\n",
       "      <th>RX</th>\n",
       "      <th>RY</th>\n",
       "      <th>RANGE_BDI</th>\n",
       "    </tr>\n",
       "    <tr>\n",
       "      <th>SESSIONID</th>\n",
       "      <th>TIME</th>\n",
       "      <th></th>\n",
       "      <th></th>\n",
       "      <th></th>\n",
       "      <th></th>\n",
       "      <th></th>\n",
       "      <th></th>\n",
       "    </tr>\n",
       "  </thead>\n",
       "  <tbody>\n",
       "    <tr>\n",
       "      <th rowspan=\"5\" valign=\"top\">0</th>\n",
       "      <th>0</th>\n",
       "      <td>2</td>\n",
       "      <td>1</td>\n",
       "      <td>1</td>\n",
       "      <td>0.722431</td>\n",
       "      <td>0.189333</td>\n",
       "      <td>0</td>\n",
       "    </tr>\n",
       "    <tr>\n",
       "      <th>1</th>\n",
       "      <td>0</td>\n",
       "      <td>0</td>\n",
       "      <td>1</td>\n",
       "      <td>0.720382</td>\n",
       "      <td>0.170944</td>\n",
       "      <td>0</td>\n",
       "    </tr>\n",
       "    <tr>\n",
       "      <th>2</th>\n",
       "      <td>0</td>\n",
       "      <td>0</td>\n",
       "      <td>1</td>\n",
       "      <td>0.718333</td>\n",
       "      <td>0.152556</td>\n",
       "      <td>0</td>\n",
       "    </tr>\n",
       "    <tr>\n",
       "      <th>3</th>\n",
       "      <td>2</td>\n",
       "      <td>1</td>\n",
       "      <td>1</td>\n",
       "      <td>0.726667</td>\n",
       "      <td>0.195111</td>\n",
       "      <td>0</td>\n",
       "    </tr>\n",
       "    <tr>\n",
       "      <th>4</th>\n",
       "      <td>2</td>\n",
       "      <td>1</td>\n",
       "      <td>1</td>\n",
       "      <td>0.735000</td>\n",
       "      <td>0.237667</td>\n",
       "      <td>0</td>\n",
       "    </tr>\n",
       "  </tbody>\n",
       "</table>\n",
       "</div>"
      ],
      "text/plain": [
       "                IMAGE_POSITION  IMAGE_TYPE  SCENE_INDEX        RX        RY  \\\n",
       "SESSIONID TIME                                                                \n",
       "0         0                  2           1            1  0.722431  0.189333   \n",
       "          1                  0           0            1  0.720382  0.170944   \n",
       "          2                  0           0            1  0.718333  0.152556   \n",
       "          3                  2           1            1  0.726667  0.195111   \n",
       "          4                  2           1            1  0.735000  0.237667   \n",
       "\n",
       "                RANGE_BDI  \n",
       "SESSIONID TIME             \n",
       "0         0             0  \n",
       "          1             0  \n",
       "          2             0  \n",
       "          3             0  \n",
       "          4             0  "
      ]
     },
     "execution_count": 6,
     "metadata": {},
     "output_type": "execute_result"
    }
   ],
   "source": [
    "dataset[\"IMAGE_TYPE\"] = dataset[\"IMAGE_TYPE\"].map(type_mapping)\n",
    "dataset[\"IMAGE_POSITION\"] = dataset[\"IMAGE_POSITION\"].map(side_mapping)\n",
    "dataset[\"RANGE_BDI\"] = dataset[\"RANGE_BDI\"].map(bdi_mapping)\n",
    "dataset[\"SCENE_INDEX\"] = dataset[\"SCENE_INDEX\"].astype(int)\n",
    "dataset.head()"
   ]
  },
  {
   "cell_type": "code",
   "execution_count": 7,
   "metadata": {},
   "outputs": [
    {
     "data": {
      "text/plain": [
       "SESSIONID  TIME\n",
       "0          0       1\n",
       "           1       0\n",
       "           2       0\n",
       "           3       1\n",
       "           4       1\n",
       "                  ..\n",
       "34         7490    2\n",
       "           7491    2\n",
       "           7492    2\n",
       "           7493    2\n",
       "           7494    2\n",
       "Name: IMAGE_TYPE, Length: 268007, dtype: int64"
      ]
     },
     "execution_count": 7,
     "metadata": {},
     "output_type": "execute_result"
    }
   ],
   "source": [
    "dataset[\"IMAGE_TYPE\"]"
   ]
  },
  {
   "cell_type": "code",
   "execution_count": 8,
   "metadata": {},
   "outputs": [
    {
     "name": "stdout",
     "output_type": "stream",
     "text": [
      "Finding unique sessions...\n",
      "Splitting dataset into train and test sets...\n",
      "Splitting train set into train and val sets...\n",
      "Generating train set...\n",
      "Generating val set...\n",
      "Generating test set...\n"
     ]
    }
   ],
   "source": [
    "print(\"Finding unique sessions...\")\n",
    "sessions = list(set([x[0] for x in dataset.index.unique()]))\n",
    "\n",
    "print(\"Splitting dataset into train and test sets...\")\n",
    "train_sessions, test_sessions = train_test_split(\n",
    "    sessions, test_size=0.2, random_state=42\n",
    ")\n",
    "\n",
    "print(\"Splitting train set into train and val sets...\")\n",
    "train_sessions, val_sessions = train_test_split(\n",
    "    train_sessions, test_size=0.2, random_state=42\n",
    ")\n",
    "\n",
    "print(\"Generating train set...\")\n",
    "train_x = dataset.loc[train_sessions]\n",
    "train_y = dataset.loc[train_sessions]\n",
    "\n",
    "print(\"Generating val set...\")\n",
    "val_x = dataset.loc[val_sessions]\n",
    "val_y = dataset.loc[val_sessions]\n",
    "\n",
    "print(\"Generating test set...\")\n",
    "test_x = dataset.loc[test_sessions]\n",
    "test_y = dataset.loc[test_sessions]"
   ]
  },
  {
   "cell_type": "code",
   "execution_count": 9,
   "metadata": {},
   "outputs": [
    {
     "data": {
      "text/plain": [
       "'pd-multiindex'"
      ]
     },
     "execution_count": 9,
     "metadata": {},
     "output_type": "execute_result"
    }
   ],
   "source": [
    "mtype(train_x, as_scitype=\"Panel\")"
   ]
  },
  {
   "cell_type": "code",
   "execution_count": 10,
   "metadata": {},
   "outputs": [],
   "source": [
    "# Compact the labels to only sessionid and collapse repeated ind\n",
    "train_y = train_y.reset_index().groupby(\"SESSIONID\").first().loc[:, \"RANGE_BDI\"].to_numpy()\n"
   ]
  },
  {
   "cell_type": "code",
   "execution_count": 29,
   "metadata": {},
   "outputs": [
    {
     "data": {
      "text/plain": [
       "[('DummyClassifier', sktime.classification.dummy._dummy.DummyClassifier),\n",
       " ('KNeighborsTimeSeriesClassifier',\n",
       "  sktime.classification.distance_based._time_series_neighbors.KNeighborsTimeSeriesClassifier),\n",
       " ('SklearnClassifierPipeline',\n",
       "  sktime.classification.compose._pipeline.SklearnClassifierPipeline),\n",
       " ('TimeSeriesSVC', sktime.classification.kernel_based._svc.TimeSeriesSVC)]"
      ]
     },
     "execution_count": 29,
     "metadata": {},
     "output_type": "execute_result"
    }
   ],
   "source": [
    "[(x[0], x[1]) for x in registry.all_estimators(estimator_types=\"classifier\", return_tags=\"capability:unequal_length\") if x[2]]\n",
    "# [x[0] for x in registry.all_tags() if \"capability\" in x[0]]"
   ]
  },
  {
   "cell_type": "code",
   "execution_count": 26,
   "metadata": {},
   "outputs": [
    {
     "ename": "ValueError",
     "evalue": "Data seen by BOSSEnsemble instance has unequal length series, but this BOSSEnsemble instance cannot handle unequal length series. Calls with unequal length series may result in error or unreliable results.",
     "output_type": "error",
     "traceback": [
      "\u001b[1;31m---------------------------------------------------------------------------\u001b[0m",
      "\u001b[1;31mValueError\u001b[0m                                Traceback (most recent call last)",
      "\u001b[1;32mc:\\Users\\czori\\Documents\\Innovaid2023\\Innovaid2023\\notebooks\\train_model.ipynb Cell 12\u001b[0m line \u001b[0;36m2\n\u001b[0;32m      <a href='vscode-notebook-cell:/c%3A/Users/czori/Documents/Innovaid2023/Innovaid2023/notebooks/train_model.ipynb#X13sZmlsZQ%3D%3D?line=0'>1</a>\u001b[0m classifier \u001b[39m=\u001b[39m BOSSEnsemble()\n\u001b[1;32m----> <a href='vscode-notebook-cell:/c%3A/Users/czori/Documents/Innovaid2023/Innovaid2023/notebooks/train_model.ipynb#X13sZmlsZQ%3D%3D?line=1'>2</a>\u001b[0m classifier\u001b[39m.\u001b[39;49mfit(pd\u001b[39m.\u001b[39;49mDataFrame(train_x[\u001b[39m\"\u001b[39;49m\u001b[39mIMAGE_TYPE\u001b[39;49m\u001b[39m\"\u001b[39;49m]), train_y)\n",
      "File \u001b[1;32mc:\\Users\\czori\\Documents\\Innovaid2023\\.venv\\Lib\\site-packages\\sktime\\classification\\base.py:175\u001b[0m, in \u001b[0;36mBaseClassifier.fit\u001b[1;34m(self, X, y)\u001b[0m\n\u001b[0;32m    172\u001b[0m \u001b[39mself\u001b[39m\u001b[39m.\u001b[39m_X_metadata \u001b[39m=\u001b[39m X_metadata\n\u001b[0;32m    174\u001b[0m \u001b[39m# Check this classifier can handle characteristics\u001b[39;00m\n\u001b[1;32m--> 175\u001b[0m \u001b[39mself\u001b[39;49m\u001b[39m.\u001b[39;49m_check_capabilities(missing, multivariate, unequal)\n\u001b[0;32m    177\u001b[0m \u001b[39m# remember class labels\u001b[39;00m\n\u001b[0;32m    178\u001b[0m \u001b[39mself\u001b[39m\u001b[39m.\u001b[39mclasses_ \u001b[39m=\u001b[39m np\u001b[39m.\u001b[39munique(y)\n",
      "File \u001b[1;32mc:\\Users\\czori\\Documents\\Innovaid2023\\.venv\\Lib\\site-packages\\sktime\\classification\\base.py:666\u001b[0m, in \u001b[0;36mBaseClassifier._check_capabilities\u001b[1;34m(self, missing, multivariate, unequal)\u001b[0m\n\u001b[0;32m    664\u001b[0m     warn(msg, obj\u001b[39m=\u001b[39m\u001b[39mself\u001b[39m)\n\u001b[0;32m    665\u001b[0m \u001b[39melse\u001b[39;00m:\n\u001b[1;32m--> 666\u001b[0m     \u001b[39mraise\u001b[39;00m \u001b[39mValueError\u001b[39;00m(msg)\n",
      "\u001b[1;31mValueError\u001b[0m: Data seen by BOSSEnsemble instance has unequal length series, but this BOSSEnsemble instance cannot handle unequal length series. Calls with unequal length series may result in error or unreliable results."
     ]
    }
   ],
   "source": [
    "classifier = BOSSEnsemble()\n",
    "classifier.fit(pd.DataFrame(train_x[\"IMAGE_TYPE\"]), train_y)\n"
   ]
  },
  {
   "cell_type": "code",
   "execution_count": null,
   "metadata": {},
   "outputs": [],
   "source": [
    "y_pred = classifier.predict(test_x)"
   ]
  },
  {
   "cell_type": "code",
   "execution_count": null,
   "metadata": {},
   "outputs": [],
   "source": [
    "accuracy_score(test_y, y_pred)"
   ]
  },
  {
   "cell_type": "code",
   "execution_count": null,
   "metadata": {},
   "outputs": [],
   "source": []
  }
 ],
 "metadata": {
  "kernelspec": {
   "display_name": ".venv",
   "language": "python",
   "name": "python3"
  },
  "language_info": {
   "codemirror_mode": {
    "name": "ipython",
    "version": 3
   },
   "file_extension": ".py",
   "mimetype": "text/x-python",
   "name": "python",
   "nbconvert_exporter": "python",
   "pygments_lexer": "ipython3",
   "version": "3.11.6"
  }
 },
 "nbformat": 4,
 "nbformat_minor": 2
}
