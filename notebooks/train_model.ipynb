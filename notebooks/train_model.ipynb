{
 "cells": [
  {
   "cell_type": "code",
   "execution_count": 1,
   "metadata": {},
   "outputs": [],
   "source": [
    "from pathlib import Path\n",
    "\n",
    "from sktime.datatypes import check_is_mtype, MTYPE_REGISTER\n",
    "from sktime.classification.interval_based import TimeSeriesForestClassifier\n",
    "from sklearn.model_selection import train_test_split\n",
    "from sklearn.metrics import accuracy_score\n",
    "\n",
    "from innovaid.dataloading import load_set"
   ]
  },
  {
   "cell_type": "code",
   "execution_count": 2,
   "metadata": {},
   "outputs": [
    {
     "name": "stdout",
     "output_type": "stream",
     "text": [
      "Found 35 files\n"
     ]
    },
    {
     "name": "stderr",
     "output_type": "stream",
     "text": [
      "Loading 0aa0abPoXao4AYllJqUT: : 0it [00:00, ?it/s]"
     ]
    },
    {
     "name": "stderr",
     "output_type": "stream",
     "text": [
      "Loading 0ry2PkzfUruhOlbQQVVB: : 35it [00:54,  1.57s/it]\n"
     ]
    }
   ],
   "source": [
    "dataset = load_set(Path(r\"../../data/proto/samples/\"))"
   ]
  },
  {
   "cell_type": "code",
   "execution_count": 3,
   "metadata": {},
   "outputs": [
    {
     "data": {
      "text/html": [
       "<div>\n",
       "<style scoped>\n",
       "    .dataframe tbody tr th:only-of-type {\n",
       "        vertical-align: middle;\n",
       "    }\n",
       "\n",
       "    .dataframe tbody tr th {\n",
       "        vertical-align: top;\n",
       "    }\n",
       "\n",
       "    .dataframe thead th {\n",
       "        text-align: right;\n",
       "    }\n",
       "</style>\n",
       "<table border=\"1\" class=\"dataframe\">\n",
       "  <thead>\n",
       "    <tr style=\"text-align: right;\">\n",
       "      <th></th>\n",
       "      <th></th>\n",
       "      <th>IMAGE_POSITION</th>\n",
       "      <th>IMAGE_TYPE</th>\n",
       "      <th>SCENE_INDEX</th>\n",
       "      <th>RX</th>\n",
       "      <th>RY</th>\n",
       "      <th>RANGE_BDI</th>\n",
       "    </tr>\n",
       "    <tr>\n",
       "      <th>SESSIONID</th>\n",
       "      <th>TIME</th>\n",
       "      <th></th>\n",
       "      <th></th>\n",
       "      <th></th>\n",
       "      <th></th>\n",
       "      <th></th>\n",
       "      <th></th>\n",
       "    </tr>\n",
       "  </thead>\n",
       "  <tbody>\n",
       "    <tr>\n",
       "      <th rowspan=\"5\" valign=\"top\">0</th>\n",
       "      <th>0</th>\n",
       "      <td>right</td>\n",
       "      <td>positive</td>\n",
       "      <td>1.0</td>\n",
       "      <td>0.722431</td>\n",
       "      <td>0.189333</td>\n",
       "      <td>min</td>\n",
       "    </tr>\n",
       "    <tr>\n",
       "      <th>1</th>\n",
       "      <td>NONE</td>\n",
       "      <td>NONE</td>\n",
       "      <td>1.0</td>\n",
       "      <td>0.720382</td>\n",
       "      <td>0.170944</td>\n",
       "      <td>min</td>\n",
       "    </tr>\n",
       "    <tr>\n",
       "      <th>2</th>\n",
       "      <td>NONE</td>\n",
       "      <td>NONE</td>\n",
       "      <td>1.0</td>\n",
       "      <td>0.718333</td>\n",
       "      <td>0.152556</td>\n",
       "      <td>min</td>\n",
       "    </tr>\n",
       "    <tr>\n",
       "      <th>3</th>\n",
       "      <td>right</td>\n",
       "      <td>positive</td>\n",
       "      <td>1.0</td>\n",
       "      <td>0.726667</td>\n",
       "      <td>0.195111</td>\n",
       "      <td>min</td>\n",
       "    </tr>\n",
       "    <tr>\n",
       "      <th>4</th>\n",
       "      <td>right</td>\n",
       "      <td>positive</td>\n",
       "      <td>1.0</td>\n",
       "      <td>0.735000</td>\n",
       "      <td>0.237667</td>\n",
       "      <td>min</td>\n",
       "    </tr>\n",
       "  </tbody>\n",
       "</table>\n",
       "</div>"
      ],
      "text/plain": [
       "               IMAGE_POSITION IMAGE_TYPE  SCENE_INDEX        RX        RY  \\\n",
       "SESSIONID TIME                                                              \n",
       "0         0             right   positive          1.0  0.722431  0.189333   \n",
       "          1              NONE       NONE          1.0  0.720382  0.170944   \n",
       "          2              NONE       NONE          1.0  0.718333  0.152556   \n",
       "          3             right   positive          1.0  0.726667  0.195111   \n",
       "          4             right   positive          1.0  0.735000  0.237667   \n",
       "\n",
       "               RANGE_BDI  \n",
       "SESSIONID TIME            \n",
       "0         0          min  \n",
       "          1          min  \n",
       "          2          min  \n",
       "          3          min  \n",
       "          4          min  "
      ]
     },
     "execution_count": 3,
     "metadata": {},
     "output_type": "execute_result"
    }
   ],
   "source": [
    "dataset.head()"
   ]
  },
  {
   "cell_type": "code",
   "execution_count": 4,
   "metadata": {},
   "outputs": [
    {
     "data": {
      "text/plain": [
       "SESSIONID  TIME\n",
       "0          0        min\n",
       "           1        min\n",
       "           2        min\n",
       "           3        min\n",
       "           4        min\n",
       "                   ... \n",
       "34         7490    mild\n",
       "           7491    mild\n",
       "           7492    mild\n",
       "           7493    mild\n",
       "           7494    mild\n",
       "Name: RANGE_BDI, Length: 268007, dtype: object"
      ]
     },
     "execution_count": 4,
     "metadata": {},
     "output_type": "execute_result"
    }
   ],
   "source": [
    "dataset[\"RANGE_BDI\"]"
   ]
  },
  {
   "cell_type": "code",
   "execution_count": 5,
   "metadata": {},
   "outputs": [
    {
     "name": "stdout",
     "output_type": "stream",
     "text": [
      "{'NONE': 0, 'positive': 1, 'negative': 2, 'neutral': 3}\n",
      "{'NONE': 0, 'left': 1, 'right': 2}\n",
      "{'min': 0, 'mild': 1, 'moderate': 2, 'mod_severe': 3}\n"
     ]
    }
   ],
   "source": [
    "type_mapping = {\n",
    "    \"NONE\": 0,\n",
    "    \"positive\": 1,\n",
    "    \"negative\": 2,\n",
    "    \"neutral\": 3,\n",
    "}\n",
    "side_mapping = {\n",
    "    \"NONE\": 0,\n",
    "    \"left\": 1,\n",
    "    \"right\": 2,\n",
    "}\n",
    "bdi_mapping = {\n",
    "    \"min\": 0,\n",
    "    \"mild\": 1,\n",
    "    \"moderate\": 2,\n",
    "    \"mod_severe\": 3,\n",
    "}\n",
    "\n",
    "print(type_mapping)\n",
    "print(side_mapping)\n",
    "print(bdi_mapping)"
   ]
  },
  {
   "cell_type": "code",
   "execution_count": 6,
   "metadata": {},
   "outputs": [
    {
     "data": {
      "text/html": [
       "<div>\n",
       "<style scoped>\n",
       "    .dataframe tbody tr th:only-of-type {\n",
       "        vertical-align: middle;\n",
       "    }\n",
       "\n",
       "    .dataframe tbody tr th {\n",
       "        vertical-align: top;\n",
       "    }\n",
       "\n",
       "    .dataframe thead th {\n",
       "        text-align: right;\n",
       "    }\n",
       "</style>\n",
       "<table border=\"1\" class=\"dataframe\">\n",
       "  <thead>\n",
       "    <tr style=\"text-align: right;\">\n",
       "      <th></th>\n",
       "      <th></th>\n",
       "      <th>IMAGE_POSITION</th>\n",
       "      <th>IMAGE_TYPE</th>\n",
       "      <th>SCENE_INDEX</th>\n",
       "      <th>RX</th>\n",
       "      <th>RY</th>\n",
       "      <th>RANGE_BDI</th>\n",
       "    </tr>\n",
       "    <tr>\n",
       "      <th>SESSIONID</th>\n",
       "      <th>TIME</th>\n",
       "      <th></th>\n",
       "      <th></th>\n",
       "      <th></th>\n",
       "      <th></th>\n",
       "      <th></th>\n",
       "      <th></th>\n",
       "    </tr>\n",
       "  </thead>\n",
       "  <tbody>\n",
       "    <tr>\n",
       "      <th rowspan=\"5\" valign=\"top\">0</th>\n",
       "      <th>0</th>\n",
       "      <td>2</td>\n",
       "      <td>1</td>\n",
       "      <td>1</td>\n",
       "      <td>0.722431</td>\n",
       "      <td>0.189333</td>\n",
       "      <td>0</td>\n",
       "    </tr>\n",
       "    <tr>\n",
       "      <th>1</th>\n",
       "      <td>0</td>\n",
       "      <td>0</td>\n",
       "      <td>1</td>\n",
       "      <td>0.720382</td>\n",
       "      <td>0.170944</td>\n",
       "      <td>0</td>\n",
       "    </tr>\n",
       "    <tr>\n",
       "      <th>2</th>\n",
       "      <td>0</td>\n",
       "      <td>0</td>\n",
       "      <td>1</td>\n",
       "      <td>0.718333</td>\n",
       "      <td>0.152556</td>\n",
       "      <td>0</td>\n",
       "    </tr>\n",
       "    <tr>\n",
       "      <th>3</th>\n",
       "      <td>2</td>\n",
       "      <td>1</td>\n",
       "      <td>1</td>\n",
       "      <td>0.726667</td>\n",
       "      <td>0.195111</td>\n",
       "      <td>0</td>\n",
       "    </tr>\n",
       "    <tr>\n",
       "      <th>4</th>\n",
       "      <td>2</td>\n",
       "      <td>1</td>\n",
       "      <td>1</td>\n",
       "      <td>0.735000</td>\n",
       "      <td>0.237667</td>\n",
       "      <td>0</td>\n",
       "    </tr>\n",
       "  </tbody>\n",
       "</table>\n",
       "</div>"
      ],
      "text/plain": [
       "                IMAGE_POSITION  IMAGE_TYPE  SCENE_INDEX        RX        RY  \\\n",
       "SESSIONID TIME                                                                \n",
       "0         0                  2           1            1  0.722431  0.189333   \n",
       "          1                  0           0            1  0.720382  0.170944   \n",
       "          2                  0           0            1  0.718333  0.152556   \n",
       "          3                  2           1            1  0.726667  0.195111   \n",
       "          4                  2           1            1  0.735000  0.237667   \n",
       "\n",
       "                RANGE_BDI  \n",
       "SESSIONID TIME             \n",
       "0         0             0  \n",
       "          1             0  \n",
       "          2             0  \n",
       "          3             0  \n",
       "          4             0  "
      ]
     },
     "execution_count": 6,
     "metadata": {},
     "output_type": "execute_result"
    }
   ],
   "source": [
    "dataset[\"IMAGE_TYPE\"] = dataset[\"IMAGE_TYPE\"].map(type_mapping)\n",
    "dataset[\"IMAGE_POSITION\"] = dataset[\"IMAGE_POSITION\"].map(side_mapping)\n",
    "dataset[\"RANGE_BDI\"] = dataset[\"RANGE_BDI\"].map(bdi_mapping)\n",
    "dataset[\"SCENE_INDEX\"] = dataset[\"SCENE_INDEX\"].astype(int)\n",
    "dataset.head()"
   ]
  },
  {
   "cell_type": "code",
   "execution_count": 7,
   "metadata": {},
   "outputs": [
    {
     "data": {
      "text/plain": [
       "SESSIONID  TIME\n",
       "0          0       1\n",
       "           1       0\n",
       "           2       0\n",
       "           3       1\n",
       "           4       1\n",
       "                  ..\n",
       "34         7490    2\n",
       "           7491    2\n",
       "           7492    2\n",
       "           7493    2\n",
       "           7494    2\n",
       "Name: IMAGE_TYPE, Length: 268007, dtype: int64"
      ]
     },
     "execution_count": 7,
     "metadata": {},
     "output_type": "execute_result"
    }
   ],
   "source": [
    "dataset[\"IMAGE_TYPE\"]"
   ]
  },
  {
   "cell_type": "code",
   "execution_count": 8,
   "metadata": {},
   "outputs": [
    {
     "name": "stdout",
     "output_type": "stream",
     "text": [
      "Finding unique sessions...\n",
      "Splitting dataset into train and test sets...\n",
      "Splitting train set into train and val sets...\n",
      "Generating train set...\n",
      "Generating val set...\n",
      "Generating test set...\n",
      "(157636,)\n"
     ]
    }
   ],
   "source": [
    "print(\"Finding unique sessions...\")\n",
    "sessions = list(set([x[0] for x in dataset.index.unique()]))\n",
    "\n",
    "print(\"Splitting dataset into train and test sets...\")\n",
    "train_sessions, test_sessions = train_test_split(\n",
    "    sessions, test_size=0.2, random_state=42\n",
    ")\n",
    "\n",
    "print(\"Splitting train set into train and val sets...\")\n",
    "train_sessions, val_sessions = train_test_split(\n",
    "    train_sessions, test_size=0.2, random_state=42\n",
    ")\n",
    "\n",
    "print(\"Generating train set...\")\n",
    "train_x = dataset.loc[train_sessions, \"IMAGE_TYPE\"]\n",
    "train_y = dataset.loc[train_sessions, \"RANGE_BDI\"]\n",
    "\n",
    "print(\"Generating val set...\")\n",
    "val_x = dataset.loc[val_sessions, \"IMAGE_TYPE\"]\n",
    "val_y = dataset.loc[val_sessions, \"RANGE_BDI\"]\n",
    "\n",
    "print(\"Generating test set...\")\n",
    "test_x = dataset.loc[test_sessions, \"IMAGE_TYPE\"]\n",
    "test_y = dataset.loc[test_sessions, \"RANGE_BDI\"]\n",
    "\n",
    "print(train_x.shape)"
   ]
  },
  {
   "cell_type": "code",
   "execution_count": 16,
   "metadata": {},
   "outputs": [
    {
     "data": {
      "text/plain": [
       "array([3, 3, 3, ..., 0, 0, 0], dtype=int64)"
      ]
     },
     "execution_count": 16,
     "metadata": {},
     "output_type": "execute_result"
    }
   ],
   "source": [
    "np_x = train_x.to_numpy()\n",
    "\n",
    "# check_is_mtype(train_x.squeeze(), mtype=\"pd.Series\")"
   ]
  },
  {
   "cell_type": "code",
   "execution_count": 15,
   "metadata": {},
   "outputs": [
    {
     "data": {
      "text/plain": [
       "SESSIONID\n",
       "31    1\n",
       "31    1\n",
       "31    1\n",
       "31    1\n",
       "31    1\n",
       "     ..\n",
       "4     2\n",
       "4     2\n",
       "4     2\n",
       "4     2\n",
       "4     2\n",
       "Name: RANGE_BDI, Length: 157636, dtype: int64"
      ]
     },
     "execution_count": 15,
     "metadata": {},
     "output_type": "execute_result"
    }
   ],
   "source": [
    "# Compact the labels to only sessionid and collapse repeated ind\n",
    "train_y.droplevel(1)"
   ]
  },
  {
   "cell_type": "code",
   "execution_count": 11,
   "metadata": {},
   "outputs": [
    {
     "ename": "TypeError",
     "evalue": "X is not of a supported input data type.X must be in a supported mtype format for Panel, found <class 'pandas.core.series.Series'>Use datatypes.check_is_mtype to check conformance with specifications.",
     "output_type": "error",
     "traceback": [
      "\u001b[1;31m---------------------------------------------------------------------------\u001b[0m",
      "\u001b[1;31mTypeError\u001b[0m                                 Traceback (most recent call last)",
      "\u001b[1;32mc:\\Users\\czori\\Documents\\Innovaid2023\\Innovaid2023\\notebooks\\train_model.ipynb Cell 11\u001b[0m line \u001b[0;36m2\n\u001b[0;32m      <a href='vscode-notebook-cell:/c%3A/Users/czori/Documents/Innovaid2023/Innovaid2023/notebooks/train_model.ipynb#X13sZmlsZQ%3D%3D?line=0'>1</a>\u001b[0m classifier \u001b[39m=\u001b[39m TimeSeriesForestClassifier()\n\u001b[1;32m----> <a href='vscode-notebook-cell:/c%3A/Users/czori/Documents/Innovaid2023/Innovaid2023/notebooks/train_model.ipynb#X13sZmlsZQ%3D%3D?line=1'>2</a>\u001b[0m classifier\u001b[39m.\u001b[39;49mfit(train_x, train_y)\n",
      "File \u001b[1;32mc:\\Users\\czori\\Documents\\Innovaid2023\\.venv\\Lib\\site-packages\\sktime\\classification\\interval_based\\_tsf.py:127\u001b[0m, in \u001b[0;36mTimeSeriesForestClassifier.fit\u001b[1;34m(self, X, y, **kwargs)\u001b[0m\n\u001b[0;32m    119\u001b[0m \u001b[39mdef\u001b[39;00m \u001b[39mfit\u001b[39m(\u001b[39mself\u001b[39m, X, y, \u001b[39m*\u001b[39m\u001b[39m*\u001b[39mkwargs):\n\u001b[0;32m    120\u001b[0m \u001b[39m    \u001b[39m\u001b[39m\"\"\"Wrap fit to call BaseClassifier.fit.\u001b[39;00m\n\u001b[0;32m    121\u001b[0m \n\u001b[0;32m    122\u001b[0m \u001b[39m    This is a fix to get around the problem with multiple inheritance. The problem\u001b[39;00m\n\u001b[1;32m   (...)\u001b[0m\n\u001b[0;32m    125\u001b[0m \u001b[39m    hacky.\u001b[39;00m\n\u001b[0;32m    126\u001b[0m \u001b[39m    \"\"\"\u001b[39;00m\n\u001b[1;32m--> 127\u001b[0m     \u001b[39mreturn\u001b[39;00m BaseClassifier\u001b[39m.\u001b[39;49mfit(\u001b[39mself\u001b[39;49m, X\u001b[39m=\u001b[39;49mX, y\u001b[39m=\u001b[39;49my, \u001b[39m*\u001b[39;49m\u001b[39m*\u001b[39;49mkwargs)\n",
      "File \u001b[1;32mc:\\Users\\czori\\Documents\\Innovaid2023\\.venv\\Lib\\site-packages\\sktime\\classification\\base.py:166\u001b[0m, in \u001b[0;36mBaseClassifier.fit\u001b[1;34m(self, X, y)\u001b[0m\n\u001b[0;32m    163\u001b[0m \u001b[39m# convenience conversions to allow user flexibility:\u001b[39;00m\n\u001b[0;32m    164\u001b[0m \u001b[39m# if X is 2D array, convert to 3D, if y is Series, convert to numpy\u001b[39;00m\n\u001b[0;32m    165\u001b[0m X, y \u001b[39m=\u001b[39m \u001b[39mself\u001b[39m\u001b[39m.\u001b[39m_internal_convert(X, y)\n\u001b[1;32m--> 166\u001b[0m X_metadata \u001b[39m=\u001b[39m \u001b[39mself\u001b[39;49m\u001b[39m.\u001b[39;49m_check_classifier_input(\n\u001b[0;32m    167\u001b[0m     X, y, return_metadata\u001b[39m=\u001b[39;49m\u001b[39mself\u001b[39;49m\u001b[39m.\u001b[39;49mMETADATA_REQ_IN_CHECKS\n\u001b[0;32m    168\u001b[0m )\n\u001b[0;32m    169\u001b[0m missing \u001b[39m=\u001b[39m X_metadata[\u001b[39m\"\u001b[39m\u001b[39mhas_nans\u001b[39m\u001b[39m\"\u001b[39m]\n\u001b[0;32m    170\u001b[0m multivariate \u001b[39m=\u001b[39m \u001b[39mnot\u001b[39;00m X_metadata[\u001b[39m\"\u001b[39m\u001b[39mis_univariate\u001b[39m\u001b[39m\"\u001b[39m]\n",
      "File \u001b[1;32mc:\\Users\\czori\\Documents\\Innovaid2023\\.venv\\Lib\\site-packages\\sktime\\classification\\base.py:721\u001b[0m, in \u001b[0;36mBaseClassifier._check_classifier_input\u001b[1;34m(self, X, y, enforce_min_instances, return_metadata)\u001b[0m\n\u001b[0;32m    717\u001b[0m X_valid, _, X_metadata \u001b[39m=\u001b[39m check_is_scitype(\n\u001b[0;32m    718\u001b[0m     X, scitype\u001b[39m=\u001b[39m\u001b[39m\"\u001b[39m\u001b[39mPanel\u001b[39m\u001b[39m\"\u001b[39m, return_metadata\u001b[39m=\u001b[39mreturn_metadata\n\u001b[0;32m    719\u001b[0m )\n\u001b[0;32m    720\u001b[0m \u001b[39mif\u001b[39;00m \u001b[39mnot\u001b[39;00m X_valid:\n\u001b[1;32m--> 721\u001b[0m     \u001b[39mraise\u001b[39;00m \u001b[39mTypeError\u001b[39;00m(\n\u001b[0;32m    722\u001b[0m         \u001b[39mf\u001b[39m\u001b[39m\"\u001b[39m\u001b[39mX is not of a supported input data type.\u001b[39m\u001b[39m\"\u001b[39m\n\u001b[0;32m    723\u001b[0m         \u001b[39mf\u001b[39m\u001b[39m\"\u001b[39m\u001b[39mX must be in a supported mtype format for Panel, found \u001b[39m\u001b[39m{\u001b[39;00m\u001b[39mtype\u001b[39m(X)\u001b[39m}\u001b[39;00m\u001b[39m\"\u001b[39m\n\u001b[0;32m    724\u001b[0m         \u001b[39mf\u001b[39m\u001b[39m\"\u001b[39m\u001b[39mUse datatypes.check_is_mtype to check conformance \u001b[39m\u001b[39m\"\u001b[39m\n\u001b[0;32m    725\u001b[0m         \u001b[39m\"\u001b[39m\u001b[39mwith specifications.\u001b[39m\u001b[39m\"\u001b[39m\n\u001b[0;32m    726\u001b[0m     )\n\u001b[0;32m    727\u001b[0m n_cases \u001b[39m=\u001b[39m X_metadata[\u001b[39m\"\u001b[39m\u001b[39mn_instances\u001b[39m\u001b[39m\"\u001b[39m]\n\u001b[0;32m    728\u001b[0m \u001b[39mif\u001b[39;00m n_cases \u001b[39m<\u001b[39m enforce_min_instances:\n",
      "\u001b[1;31mTypeError\u001b[0m: X is not of a supported input data type.X must be in a supported mtype format for Panel, found <class 'pandas.core.series.Series'>Use datatypes.check_is_mtype to check conformance with specifications."
     ]
    }
   ],
   "source": [
    "classifier = TimeSeriesForestClassifier()\n",
    "classifier.fit(train_x, train_y)\n"
   ]
  },
  {
   "cell_type": "code",
   "execution_count": null,
   "metadata": {},
   "outputs": [],
   "source": [
    "y_pred = classifier.predict(test_x)"
   ]
  },
  {
   "cell_type": "code",
   "execution_count": null,
   "metadata": {},
   "outputs": [],
   "source": [
    "accuracy_score(test_y, y_pred)"
   ]
  },
  {
   "cell_type": "code",
   "execution_count": null,
   "metadata": {},
   "outputs": [],
   "source": []
  }
 ],
 "metadata": {
  "kernelspec": {
   "display_name": ".venv",
   "language": "python",
   "name": "python3"
  },
  "language_info": {
   "codemirror_mode": {
    "name": "ipython",
    "version": 3
   },
   "file_extension": ".py",
   "mimetype": "text/x-python",
   "name": "python",
   "nbconvert_exporter": "python",
   "pygments_lexer": "ipython3",
   "version": "3.11.6"
  }
 },
 "nbformat": 4,
 "nbformat_minor": 2
}
